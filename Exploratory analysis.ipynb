{
 "cells": [
  {
   "cell_type": "code",
   "execution_count": 1,
   "metadata": {},
   "outputs": [
    {
     "name": "stderr",
     "output_type": "stream",
     "text": [
      "C:\\Users\\katar\\Anaconda3\\lib\\site-packages\\pandas\\compat\\_optional.py:138: UserWarning: Pandas requires version '2.7.0' or newer of 'numexpr' (version '2.6.9' currently installed).\n",
      "  warnings.warn(msg, UserWarning)\n"
     ]
    }
   ],
   "source": [
    "# importing libraries\n",
    "import pandas as pd\n",
    "import numpy as np\n",
    "from datetime import datetime as dt\n",
    "from datetime import date\n",
    "from dateutil.relativedelta import relativedelta\n",
    "import seaborn as sns\n",
    "import matplotlib.pyplot as plt"
   ]
  },
  {
   "cell_type": "code",
   "execution_count": 78,
   "metadata": {},
   "outputs": [],
   "source": [
    "# loading cleaned datasets\n",
    "customers = pd.read_csv(\"data interim/customers_train.csv\")\n",
    "districts = pd.read_csv(\"data_updated/districts.csv\")\n",
    "transactions = pd.read_csv(\"data interim/transactions_train.csv\")"
   ]
  },
  {
   "cell_type": "markdown",
   "metadata": {},
   "source": [
    "CUSTOMERS TABLE"
   ]
  },
  {
   "cell_type": "code",
   "execution_count": 79,
   "metadata": {},
   "outputs": [
    {
     "data": {
      "text/html": [
       "<div>\n",
       "<style scoped>\n",
       "    .dataframe tbody tr th:only-of-type {\n",
       "        vertical-align: middle;\n",
       "    }\n",
       "\n",
       "    .dataframe tbody tr th {\n",
       "        vertical-align: top;\n",
       "    }\n",
       "\n",
       "    .dataframe thead th {\n",
       "        text-align: right;\n",
       "    }\n",
       "</style>\n",
       "<table border=\"1\" class=\"dataframe\">\n",
       "  <thead>\n",
       "    <tr style=\"text-align: right;\">\n",
       "      <th></th>\n",
       "      <th>Unnamed: 0</th>\n",
       "      <th>CLIENT_ID</th>\n",
       "      <th>ACCOUNT_ID</th>\n",
       "      <th>GENDER</th>\n",
       "      <th>BIRTH_DT</th>\n",
       "      <th>ACTIVE</th>\n",
       "      <th>DISTRICT_ID</th>\n",
       "      <th>AGE</th>\n",
       "    </tr>\n",
       "    <tr>\n",
       "      <th>LOAN</th>\n",
       "      <th></th>\n",
       "      <th></th>\n",
       "      <th></th>\n",
       "      <th></th>\n",
       "      <th></th>\n",
       "      <th></th>\n",
       "      <th></th>\n",
       "      <th></th>\n",
       "    </tr>\n",
       "  </thead>\n",
       "  <tbody>\n",
       "    <tr>\n",
       "      <th>0.0</th>\n",
       "      <td>2992</td>\n",
       "      <td>2992</td>\n",
       "      <td>2992</td>\n",
       "      <td>2992</td>\n",
       "      <td>2992</td>\n",
       "      <td>2992</td>\n",
       "      <td>2992</td>\n",
       "      <td>2992</td>\n",
       "    </tr>\n",
       "    <tr>\n",
       "      <th>1.0</th>\n",
       "      <td>529</td>\n",
       "      <td>529</td>\n",
       "      <td>529</td>\n",
       "      <td>529</td>\n",
       "      <td>529</td>\n",
       "      <td>529</td>\n",
       "      <td>529</td>\n",
       "      <td>529</td>\n",
       "    </tr>\n",
       "  </tbody>\n",
       "</table>\n",
       "</div>"
      ],
      "text/plain": [
       "      Unnamed: 0  CLIENT_ID  ACCOUNT_ID  GENDER  BIRTH_DT  ACTIVE  \\\n",
       "LOAN                                                                \n",
       "0.0         2992       2992        2992    2992      2992    2992   \n",
       "1.0          529        529         529     529       529     529   \n",
       "\n",
       "      DISTRICT_ID   AGE  \n",
       "LOAN                     \n",
       "0.0          2992  2992  \n",
       "1.0           529   529  "
      ]
     },
     "execution_count": 79,
     "metadata": {},
     "output_type": "execute_result"
    }
   ],
   "source": [
    "customers.groupby(\"LOAN\").count()"
   ]
  },
  {
   "cell_type": "markdown",
   "metadata": {},
   "source": [
    "Approx 17% of customers have a loan. Let's see if there is dependency on GENDER or AGE."
   ]
  },
  {
   "cell_type": "code",
   "execution_count": 80,
   "metadata": {},
   "outputs": [
    {
     "name": "stdout",
     "output_type": "stream",
     "text": [
      "0 LOAN\n",
      "0.0    0.849765\n",
      "1.0    0.150235\n",
      "Name: 0, dtype: float64\n",
      "1 LOAN\n",
      "0.0    0.849752\n",
      "1.0    0.150248\n",
      "Name: 1, dtype: float64\n"
     ]
    },
    {
     "data": {
      "image/png": "[encoded data removed]",
      "text/plain": [
       "<Figure size 432x288 with 1 Axes>"
      ]
     },
     "metadata": {
      "needs_background": "light"
     },
     "output_type": "display_data"
    }
   ],
   "source": [
    "x_var, y_var = \"GENDER\", \"LOAN\"\n",
    "df_grouped = customers.groupby(x_var)[y_var].value_counts(normalize=True).unstack(y_var)\n",
    "#df_grouped = df_grouped.sort_values(by=1.0, ascending=False).head(10)\n",
    "df_grouped.plot.barh(stacked=True)\n",
    "plt.legend(\n",
    "    bbox_to_anchor=(0.5, 1.02),\n",
    "    loc=\"lower center\",\n",
    "    borderaxespad=0,\n",
    "    frameon=False,\n",
    "    ncol=3,\n",
    ")\n",
    "for ix, row in df_grouped.reset_index(drop=True).iterrows():\n",
    "    print(ix, row)\n",
    "    cumulative = 0\n",
    "    for element in row:\n",
    "        if element > 0.1:\n",
    "            plt.text(\n",
    "                cumulative + element / 2,\n",
    "                ix,\n",
    "                f\"{int(element * 100)} %\",\n",
    "                va=\"center\",\n",
    "                ha=\"center\",\n",
    "            )\n",
    "        cumulative += element\n",
    "plt.tight_layout()"
   ]
  },
  {
   "cell_type": "markdown",
   "metadata": {},
   "source": [
    "Bank is equally likely to grant loans to male and female."
   ]
  },
  {
   "cell_type": "code",
   "execution_count": 81,
   "metadata": {},
   "outputs": [],
   "source": [
    "# groupping customers by AGE\n",
    "customers['AGE_GROUP'] = customers.AGE.round(-1)"
   ]
  },
  {
   "cell_type": "code",
   "execution_count": 82,
   "metadata": {},
   "outputs": [
    {
     "name": "stdout",
     "output_type": "stream",
     "text": [
      "0 LOAN\n",
      "0.0    0.883234\n",
      "1.0    0.116766\n",
      "Name: 0, dtype: float64\n",
      "1 LOAN\n",
      "0.0    0.824027\n",
      "1.0    0.175973\n",
      "Name: 1, dtype: float64\n",
      "2 LOAN\n",
      "0.0    0.794483\n",
      "1.0    0.205517\n",
      "Name: 2, dtype: float64\n",
      "3 LOAN\n",
      "0.0    0.815552\n",
      "1.0    0.184448\n",
      "Name: 3, dtype: float64\n",
      "4 LOAN\n",
      "0.0    0.823366\n",
      "1.0    0.176634\n",
      "Name: 4, dtype: float64\n",
      "5 LOAN\n",
      "0.0    0.972881\n",
      "1.0    0.027119\n",
      "Name: 5, dtype: float64\n",
      "6 LOAN\n",
      "0.0    1.0\n",
      "1.0    NaN\n",
      "Name: 6, dtype: float64\n"
     ]
    },
    {
     "data": {
      "image/png": "[encoded data removed]",
      "text/plain": [
       "<Figure size 432x288 with 1 Axes>"
      ]
     },
     "metadata": {
      "needs_background": "light"
     },
     "output_type": "display_data"
    }
   ],
   "source": [
    "x_var, y_var = \"AGE_GROUP\", \"LOAN\"\n",
    "df_grouped = customers.groupby(x_var)[y_var].value_counts(normalize=True).unstack(y_var)\n",
    "#df_grouped = df_grouped.sort_values(by=1.0, ascending=False).head(10)\n",
    "df_grouped.plot.barh(stacked=True)\n",
    "plt.legend(\n",
    "    bbox_to_anchor=(0.5, 1.02),\n",
    "    loc=\"lower center\",\n",
    "    borderaxespad=0,\n",
    "    frameon=False,\n",
    "    ncol=3,\n",
    ")\n",
    "for ix, row in df_grouped.reset_index(drop=True).iterrows():\n",
    "    print(ix, row)\n",
    "    cumulative = 0\n",
    "    for element in row:\n",
    "        if element > 0.1:\n",
    "            plt.text(\n",
    "                cumulative + element / 2,\n",
    "                ix,\n",
    "                f\"{int(element * 100)} %\",\n",
    "                va=\"center\",\n",
    "                ha=\"center\",\n",
    "            )\n",
    "        cumulative += element\n",
    "plt.tight_layout()"
   ]
  },
  {
   "cell_type": "markdown",
   "metadata": {},
   "source": [
    "Bank is more likely to have granted a loan to customers between 50-90."
   ]
  },
  {
   "cell_type": "code",
   "execution_count": 83,
   "metadata": {},
   "outputs": [
    {
     "data": {
      "text/plain": [
       "<matplotlib.axes._subplots.AxesSubplot at 0x29a9ce96358>"
      ]
     },
     "execution_count": 83,
     "metadata": {},
     "output_type": "execute_result"
    },
    {
     "data": {
      "image/png": "[encoded data removed]",
      "text/plain": [
       "<Figure size 432x288 with 1 Axes>"
      ]
     },
     "metadata": {
      "needs_background": "light"
     },
     "output_type": "display_data"
    }
   ],
   "source": [
    "sns.boxplot(data=customers, x=\"LOAN\", y=\"AGE\")"
   ]
  },
  {
   "cell_type": "markdown",
   "metadata": {},
   "source": [
    "Bank is more likely to have granted a loan to younger customers."
   ]
  },
  {
   "cell_type": "markdown",
   "metadata": {},
   "source": [
    "DISTRICTS TABLE"
   ]
  },
  {
   "cell_type": "code",
   "execution_count": 84,
   "metadata": {},
   "outputs": [
    {
     "data": {
      "text/plain": [
       "<matplotlib.axes._subplots.AxesSubplot at 0x29a9cfa3978>"
      ]
     },
     "execution_count": 84,
     "metadata": {},
     "output_type": "execute_result"
    },
    {
     "data": {
      "image/png": "[encoded data removed]",
      "text/plain": [
       "<Figure size 432x288 with 2 Axes>"
      ]
     },
     "metadata": {
      "needs_background": "light"
     },
     "output_type": "display_data"
    }
   ],
   "source": [
    "# analysing heatmap\n",
    "sns.heatmap(districts.loc[:, districts.columns != 'DISTRICT_ID'].corr(), annot=True)\n"
   ]
  },
  {
   "cell_type": "markdown",
   "metadata": {},
   "source": [
    "I noticed that UNEMP_95 and CRIME_95 are missing, most likely due to data quality issue."
   ]
  },
  {
   "cell_type": "markdown",
   "metadata": {},
   "source": [
    "Observations:\n",
    "* N_INHAB and CRIME_96 are strongly, positively correlated. I will drop CRIME_96 from further analysis as it's not bringing any value. I will explore CRIMES_PER_INHAB.\n",
    "* N_INHAB is also positively correlated with URBAN_RATIO, AVG_SALARY and N_ENTR. In districts with higher population we also observe that more people are living in cities, have higher salaries and own businesses.\n",
    "* N_CITIES is negatively correlated with N_INHAB and AVG_SALARY. If there are many cities in the district, they are most likely small, resulting in small total population.\n",
    "* N_ENTR and UNEMP_96 are negatively correlated"
   ]
  },
  {
   "cell_type": "code",
   "execution_count": 85,
   "metadata": {},
   "outputs": [],
   "source": [
    "districts['CRIMES_PER_INHAB'] = districts.CRIME_96.div(sum(districts.N_INHAB))"
   ]
  },
  {
   "cell_type": "code",
   "execution_count": 86,
   "metadata": {},
   "outputs": [
    {
     "data": {
      "text/plain": [
       "<matplotlib.axes._subplots.AxesSubplot at 0x29a9d09d5c0>"
      ]
     },
     "execution_count": 86,
     "metadata": {},
     "output_type": "execute_result"
    },
    {
     "data": {
      "image/png": "[encoded data removed]",
      "text/plain": [
       "<Figure size 432x288 with 1 Axes>"
      ]
     },
     "metadata": {
      "needs_background": "light"
     },
     "output_type": "display_data"
    }
   ],
   "source": [
    "sns.scatterplot(districts,x='N_INHAB',y='CRIMES_PER_INHAB')"
   ]
  },
  {
   "cell_type": "markdown",
   "metadata": {},
   "source": [
    "In the scatterplot of N_INHAB agaist CRIME_PER_INHAB we can spot a slight positive correlation (more crime in more populated district) and one clar outlier. "
   ]
  },
  {
   "cell_type": "markdown",
   "metadata": {},
   "source": [
    "### Representation of customers with a loan in districts.\n",
    "I will compare distrbution acress DISTRICT_ID of loans granted in the bank to distribution of population across districts. Comparing those two metrics will show me which districts are overrepresented and underrepresented in consumers of loans in our bank. "
   ]
  },
  {
   "cell_type": "code",
   "execution_count": 87,
   "metadata": {},
   "outputs": [],
   "source": [
    "# calculating % of total loans for all DISTRICS_IDs among customers\n",
    "distr_loans = customers.groupby('DISTRICT_ID').agg({'LOAN':['sum']})\n",
    "distr_loans.columns = distr_loans.columns.get_level_values(1)\n",
    "distr_loans['perc'] = distr_loans['sum'].div(distr_loans['sum'].sum())"
   ]
  },
  {
   "cell_type": "code",
   "execution_count": 88,
   "metadata": {},
   "outputs": [
    {
     "name": "stdout",
     "output_type": "stream",
     "text": [
      "0 LOAN\n",
      "0.0    0.756098\n",
      "1.0    0.243902\n",
      "Name: 0, dtype: float64\n",
      "1 LOAN\n",
      "0.0    0.756098\n",
      "1.0    0.243902\n",
      "Name: 1, dtype: float64\n",
      "2 LOAN\n",
      "0.0    0.756757\n",
      "1.0    0.243243\n",
      "Name: 2, dtype: float64\n",
      "3 LOAN\n",
      "0.0    0.767442\n",
      "1.0    0.232558\n",
      "Name: 3, dtype: float64\n",
      "4 LOAN\n",
      "0.0    0.780488\n",
      "1.0    0.219512\n",
      "Name: 4, dtype: float64\n",
      "5 LOAN\n",
      "0.0    0.782609\n",
      "1.0    0.217391\n",
      "Name: 5, dtype: float64\n",
      "6 LOAN\n",
      "0.0    0.783784\n",
      "1.0    0.216216\n",
      "Name: 6, dtype: float64\n",
      "7 LOAN\n",
      "0.0    0.789474\n",
      "1.0    0.210526\n",
      "Name: 7, dtype: float64\n",
      "8 LOAN\n",
      "0.0    0.791045\n",
      "1.0    0.208955\n",
      "Name: 8, dtype: float64\n",
      "9 LOAN\n",
      "0.0    0.794118\n",
      "1.0    0.205882\n",
      "Name: 9, dtype: float64\n"
     ]
    },
    {
     "data": {
      "image/png": "[encoded data removed]",
      "text/plain": [
       "<Figure size 432x288 with 1 Axes>"
      ]
     },
     "metadata": {
      "needs_background": "light"
     },
     "output_type": "display_data"
    }
   ],
   "source": [
    "x_var, y_var = \"DISTRICT_ID\", \"LOAN\"\n",
    "df_grouped = customers.groupby(x_var)[y_var].value_counts(normalize=True).unstack(y_var)\n",
    "df_grouped = df_grouped.sort_values(by=1.0, ascending=False).head(10)\n",
    "df_grouped.plot.barh(stacked=True)\n",
    "plt.legend(\n",
    "    bbox_to_anchor=(0.5, 1.02),\n",
    "    loc=\"lower center\",\n",
    "    borderaxespad=0,\n",
    "    frameon=False,\n",
    "    ncol=3,\n",
    ")\n",
    "for ix, row in df_grouped.reset_index(drop=True).iterrows():\n",
    "    print(ix, row)\n",
    "    cumulative = 0\n",
    "    for element in row:\n",
    "        if element > 0.1:\n",
    "            plt.text(\n",
    "                cumulative + element / 2,\n",
    "                ix,\n",
    "                f\"{int(element * 100)} %\",\n",
    "                va=\"center\",\n",
    "                ha=\"center\",\n",
    "            )\n",
    "        cumulative += element\n",
    "plt.tight_layout()"
   ]
  },
  {
   "cell_type": "code",
   "execution_count": 89,
   "metadata": {},
   "outputs": [
    {
     "data": {
      "text/plain": [
       "<matplotlib.axes._subplots.AxesSubplot at 0x29a9d117fd0>"
      ]
     },
     "execution_count": 89,
     "metadata": {},
     "output_type": "execute_result"
    },
    {
     "data": {
      "image/png": "[encoded data removed]",
      "text/plain": [
       "<Figure size 432x288 with 1 Axes>"
      ]
     },
     "metadata": {
      "needs_background": "light"
     },
     "output_type": "display_data"
    }
   ],
   "source": [
    "#define Seaborn color palette to use\n",
    "colors = sns.color_palette('pastel')[0:5]\n",
    "temp = customers[customers.LOAN==1].groupby('DISTRICT_ID').sum().div(customers.LOAN.sum())\n",
    "\n",
    "temp.reset_index(inplace=True)\n",
    "\n",
    "temp = temp.sort_values(by='ACTIVE', ascending=False).head(20)\n",
    "\n",
    "#create pie chart\n",
    "sns.barplot(temp, x='DISTRICT_ID', y = 'ACTIVE')"
   ]
  },
  {
   "cell_type": "code",
   "execution_count": 90,
   "metadata": {},
   "outputs": [],
   "source": [
    "# calculation % of total population for all DISTRICT_IDs\n",
    "districts['PERC_INHAB'] = districts.N_INHAB.div(districts.N_INHAB.sum())"
   ]
  },
  {
   "cell_type": "code",
   "execution_count": 91,
   "metadata": {},
   "outputs": [],
   "source": [
    "districts = districts.merge(distr_loans, on='DISTRICT_ID')"
   ]
  },
  {
   "cell_type": "code",
   "execution_count": 92,
   "metadata": {},
   "outputs": [],
   "source": [
    "districts['prefered_districts'] = districts.perc > districts.PERC_INHAB"
   ]
  },
  {
   "cell_type": "code",
   "execution_count": 93,
   "metadata": {},
   "outputs": [
    {
     "data": {
      "text/html": [
       "<div>\n",
       "<style scoped>\n",
       "    .dataframe tbody tr th:only-of-type {\n",
       "        vertical-align: middle;\n",
       "    }\n",
       "\n",
       "    .dataframe tbody tr th {\n",
       "        vertical-align: top;\n",
       "    }\n",
       "\n",
       "    .dataframe thead th {\n",
       "        text-align: right;\n",
       "    }\n",
       "</style>\n",
       "<table border=\"1\" class=\"dataframe\">\n",
       "  <thead>\n",
       "    <tr style=\"text-align: right;\">\n",
       "      <th></th>\n",
       "      <th>DISTRICT_ID</th>\n",
       "      <th>N_INHAB</th>\n",
       "      <th>N_CITIES</th>\n",
       "      <th>URBAN_RATIO</th>\n",
       "      <th>AVG_SALARY</th>\n",
       "      <th>UNEMP_95</th>\n",
       "      <th>UNEMP_96</th>\n",
       "      <th>N_ENTR</th>\n",
       "      <th>CRIME_95</th>\n",
       "      <th>CRIME_96</th>\n",
       "      <th>CRIMES_PER_INHAB</th>\n",
       "      <th>PERC_INHAB</th>\n",
       "      <th>sum</th>\n",
       "      <th>perc</th>\n",
       "      <th>prefered_districts</th>\n",
       "    </tr>\n",
       "  </thead>\n",
       "  <tbody>\n",
       "    <tr>\n",
       "      <th>0</th>\n",
       "      <td>1</td>\n",
       "      <td>1204953</td>\n",
       "      <td>1</td>\n",
       "      <td>100.0</td>\n",
       "      <td>12541</td>\n",
       "      <td>0.29</td>\n",
       "      <td>0.43</td>\n",
       "      <td>167</td>\n",
       "      <td>85677</td>\n",
       "      <td>99107</td>\n",
       "      <td>0.009614</td>\n",
       "      <td>0.116882</td>\n",
       "      <td>60.0</td>\n",
       "      <td>0.113422</td>\n",
       "      <td>False</td>\n",
       "    </tr>\n",
       "    <tr>\n",
       "      <th>1</th>\n",
       "      <td>2</td>\n",
       "      <td>88884</td>\n",
       "      <td>5</td>\n",
       "      <td>46.7</td>\n",
       "      <td>8507</td>\n",
       "      <td>1.67</td>\n",
       "      <td>1.85</td>\n",
       "      <td>132</td>\n",
       "      <td>2159</td>\n",
       "      <td>2674</td>\n",
       "      <td>0.000259</td>\n",
       "      <td>0.008622</td>\n",
       "      <td>6.0</td>\n",
       "      <td>0.011342</td>\n",
       "      <td>True</td>\n",
       "    </tr>\n",
       "    <tr>\n",
       "      <th>2</th>\n",
       "      <td>3</td>\n",
       "      <td>75232</td>\n",
       "      <td>5</td>\n",
       "      <td>41.7</td>\n",
       "      <td>8980</td>\n",
       "      <td>1.95</td>\n",
       "      <td>2.21</td>\n",
       "      <td>111</td>\n",
       "      <td>2824</td>\n",
       "      <td>2813</td>\n",
       "      <td>0.000273</td>\n",
       "      <td>0.007298</td>\n",
       "      <td>6.0</td>\n",
       "      <td>0.011342</td>\n",
       "      <td>True</td>\n",
       "    </tr>\n",
       "    <tr>\n",
       "      <th>3</th>\n",
       "      <td>4</td>\n",
       "      <td>149893</td>\n",
       "      <td>6</td>\n",
       "      <td>67.4</td>\n",
       "      <td>9753</td>\n",
       "      <td>4.64</td>\n",
       "      <td>5.05</td>\n",
       "      <td>109</td>\n",
       "      <td>5244</td>\n",
       "      <td>5892</td>\n",
       "      <td>0.000572</td>\n",
       "      <td>0.014540</td>\n",
       "      <td>2.0</td>\n",
       "      <td>0.003781</td>\n",
       "      <td>False</td>\n",
       "    </tr>\n",
       "    <tr>\n",
       "      <th>4</th>\n",
       "      <td>5</td>\n",
       "      <td>95616</td>\n",
       "      <td>6</td>\n",
       "      <td>51.4</td>\n",
       "      <td>9307</td>\n",
       "      <td>3.85</td>\n",
       "      <td>4.43</td>\n",
       "      <td>118</td>\n",
       "      <td>2616</td>\n",
       "      <td>3040</td>\n",
       "      <td>0.000295</td>\n",
       "      <td>0.009275</td>\n",
       "      <td>9.0</td>\n",
       "      <td>0.017013</td>\n",
       "      <td>True</td>\n",
       "    </tr>\n",
       "  </tbody>\n",
       "</table>\n",
       "</div>"
      ],
      "text/plain": [
       "   DISTRICT_ID  N_INHAB  N_CITIES  URBAN_RATIO  AVG_SALARY UNEMP_95  UNEMP_96  \\\n",
       "0            1  1204953         1        100.0       12541     0.29      0.43   \n",
       "1            2    88884         5         46.7        8507     1.67      1.85   \n",
       "2            3    75232         5         41.7        8980     1.95      2.21   \n",
       "3            4   149893         6         67.4        9753     4.64      5.05   \n",
       "4            5    95616         6         51.4        9307     3.85      4.43   \n",
       "\n",
       "   N_ENTR CRIME_95  CRIME_96  CRIMES_PER_INHAB  PERC_INHAB   sum      perc  \\\n",
       "0     167    85677     99107          0.009614    0.116882  60.0  0.113422   \n",
       "1     132     2159      2674          0.000259    0.008622   6.0  0.011342   \n",
       "2     111     2824      2813          0.000273    0.007298   6.0  0.011342   \n",
       "3     109     5244      5892          0.000572    0.014540   2.0  0.003781   \n",
       "4     118     2616      3040          0.000295    0.009275   9.0  0.017013   \n",
       "\n",
       "   prefered_districts  \n",
       "0               False  \n",
       "1                True  \n",
       "2                True  \n",
       "3               False  \n",
       "4                True  "
      ]
     },
     "execution_count": 93,
     "metadata": {},
     "output_type": "execute_result"
    }
   ],
   "source": [
    "districts.head()"
   ]
  },
  {
   "cell_type": "code",
   "execution_count": 95,
   "metadata": {},
   "outputs": [
    {
     "data": {
      "text/plain": [
       "<matplotlib.axes._subplots.AxesSubplot at 0x29a9d33f358>"
      ]
     },
     "execution_count": 95,
     "metadata": {},
     "output_type": "execute_result"
    },
    {
     "data": {
      "image/png": "[encoded data removed]",
      "text/plain": [
       "<Figure size 432x288 with 1 Axes>"
      ]
     },
     "metadata": {
      "needs_background": "light"
     },
     "output_type": "display_data"
    }
   ],
   "source": [
    "sns.boxplot(data=districts, x=\"prefered_districts\", y=\"N_INHAB\")"
   ]
  },
  {
   "cell_type": "markdown",
   "metadata": {},
   "source": [
    "One outlier district is impacting boxplot, I will remove it from analysis."
   ]
  },
  {
   "cell_type": "code",
   "execution_count": 96,
   "metadata": {},
   "outputs": [
    {
     "data": {
      "text/plain": [
       "<matplotlib.axes._subplots.AxesSubplot at 0x29a9d3b12b0>"
      ]
     },
     "execution_count": 96,
     "metadata": {},
     "output_type": "execute_result"
    },
    {
     "data": {
      "image/png": "[encoded data removed]",
      "text/plain": [
       "<Figure size 432x288 with 1 Axes>"
      ]
     },
     "metadata": {
      "needs_background": "light"
     },
     "output_type": "display_data"
    }
   ],
   "source": [
    "sns.boxplot(data=districts[~districts.DISTRICT_ID.isin([1])], x=\"prefered_districts\", y=\"N_INHAB\")"
   ]
  },
  {
   "cell_type": "markdown",
   "metadata": {},
   "source": [
    "Bank is more likely to grant a loan to citizen of smaller districts."
   ]
  },
  {
   "cell_type": "code",
   "execution_count": 97,
   "metadata": {},
   "outputs": [
    {
     "data": {
      "text/plain": [
       "<matplotlib.axes._subplots.AxesSubplot at 0x29a9d42d0f0>"
      ]
     },
     "execution_count": 97,
     "metadata": {},
     "output_type": "execute_result"
    },
    {
     "data": {
      "image/png": "[encoded data removed]",
      "text/plain": [
       "<Figure size 432x288 with 1 Axes>"
      ]
     },
     "metadata": {
      "needs_background": "light"
     },
     "output_type": "display_data"
    }
   ],
   "source": [
    "sns.boxplot(data=districts, x=\"prefered_districts\", y=\"AVG_SALARY\")"
   ]
  },
  {
   "cell_type": "markdown",
   "metadata": {},
   "source": [
    "Bank is more likely to grant a loan to person with lower salary. I have also analyzed other features, but none have diven a clear distinction on tagert variable."
   ]
  },
  {
   "cell_type": "code",
   "execution_count": 98,
   "metadata": {},
   "outputs": [
    {
     "data": {
      "text/plain": [
       "<matplotlib.axes._subplots.AxesSubplot at 0x29a9d14cfd0>"
      ]
     },
     "execution_count": 98,
     "metadata": {},
     "output_type": "execute_result"
    },
    {
     "data": {
      "image/png": "[encoded data removed]",
      "text/plain": [
       "<Figure size 432x288 with 1 Axes>"
      ]
     },
     "metadata": {
      "needs_background": "light"
     },
     "output_type": "display_data"
    }
   ],
   "source": [
    "sns.boxplot(data=districts, x=\"prefered_districts\", y=\"N_CITIES\")"
   ]
  },
  {
   "cell_type": "markdown",
   "metadata": {},
   "source": [
    "Preferred customers from districts with lowe number of cities."
   ]
  },
  {
   "cell_type": "code",
   "execution_count": 20,
   "metadata": {},
   "outputs": [
    {
     "data": {
      "text/plain": [
       "<matplotlib.axes._subplots.AxesSubplot at 0x29a925569e8>"
      ]
     },
     "execution_count": 20,
     "metadata": {},
     "output_type": "execute_result"
    },
    {
     "data": {
      "image/png": "[encoded data removed]",
      "text/plain": [
       "<Figure size 432x288 with 1 Axes>"
      ]
     },
     "metadata": {
      "needs_background": "light"
     },
     "output_type": "display_data"
    }
   ],
   "source": [
    "sns.boxplot(data=districts, x=\"prefered_districts\", y=\"N_ENTR\")"
   ]
  },
  {
   "cell_type": "markdown",
   "metadata": {},
   "source": [
    "No visible correlation on number of enterpreneurs."
   ]
  },
  {
   "cell_type": "code",
   "execution_count": 99,
   "metadata": {},
   "outputs": [
    {
     "data": {
      "text/plain": [
       "<matplotlib.axes._subplots.AxesSubplot at 0x29a9cf24898>"
      ]
     },
     "execution_count": 99,
     "metadata": {},
     "output_type": "execute_result"
    },
    {
     "data": {
      "image/png": "[encoded data removed]",
      "text/plain": [
       "<Figure size 432x288 with 1 Axes>"
      ]
     },
     "metadata": {
      "needs_background": "light"
     },
     "output_type": "display_data"
    }
   ],
   "source": [
    "sns.boxplot(data=districts, x=\"prefered_districts\", y=\"URBAN_RATIO\")"
   ]
  },
  {
   "cell_type": "markdown",
   "metadata": {},
   "source": [
    "Preferred customers with lower URBAN_RATIO, however there are some outliers."
   ]
  },
  {
   "cell_type": "code",
   "execution_count": 100,
   "metadata": {},
   "outputs": [
    {
     "data": {
      "text/plain": [
       "<matplotlib.axes._subplots.AxesSubplot at 0x29a9dccaf28>"
      ]
     },
     "execution_count": 100,
     "metadata": {},
     "output_type": "execute_result"
    },
    {
     "data": {
      "image/png": "[encoded data removed]",
      "text/plain": [
       "<Figure size 432x288 with 1 Axes>"
      ]
     },
     "metadata": {
      "needs_background": "light"
     },
     "output_type": "display_data"
    }
   ],
   "source": [
    "sns.boxplot(data=districts, x=\"prefered_districts\", y=\"CRIMES_PER_INHAB\")"
   ]
  },
  {
   "cell_type": "code",
   "execution_count": 102,
   "metadata": {},
   "outputs": [
    {
     "data": {
      "text/plain": [
       "<matplotlib.axes._subplots.AxesSubplot at 0x29a930d32b0>"
      ]
     },
     "execution_count": 102,
     "metadata": {},
     "output_type": "execute_result"
    },
    {
     "data": {
      "image/png": "[encoded data removed]",
      "text/plain": [
       "<Figure size 432x288 with 1 Axes>"
      ]
     },
     "metadata": {
      "needs_background": "light"
     },
     "output_type": "display_data"
    }
   ],
   "source": [
    "sns.boxplot(data=districts[~districts.DISTRICT_ID.isin([1])], x=\"prefered_districts\", y=\"CRIMES_PER_INHAB\")"
   ]
  },
  {
   "cell_type": "code",
   "execution_count": 103,
   "metadata": {},
   "outputs": [
    {
     "data": {
      "text/plain": [
       "<matplotlib.axes._subplots.AxesSubplot at 0x29a9331c940>"
      ]
     },
     "execution_count": 103,
     "metadata": {},
     "output_type": "execute_result"
    },
    {
     "data": {
      "image/png": "[encoded data removed]",
      "text/plain": [
       "<Figure size 432x288 with 1 Axes>"
      ]
     },
     "metadata": {
      "needs_background": "light"
     },
     "output_type": "display_data"
    }
   ],
   "source": [
    "sns.boxplot(data=districts, x=\"prefered_districts\", y=\"UNEMP_96\")"
   ]
  },
  {
   "cell_type": "code",
   "execution_count": null,
   "metadata": {},
   "outputs": [],
   "source": [
    "Slighly negative correlation with unemployment rate."
   ]
  },
  {
   "cell_type": "markdown",
   "metadata": {},
   "source": [
    "TRANSACTIONS TABLE"
   ]
  },
  {
   "cell_type": "code",
   "execution_count": 137,
   "metadata": {},
   "outputs": [],
   "source": [
    "# cleaning DATE\n",
    "def add_zero(a):\n",
    "    if len(a) == 7:\n",
    "        a = '0' + a\n",
    "    return a"
   ]
  },
  {
   "cell_type": "code",
   "execution_count": 141,
   "metadata": {},
   "outputs": [
    {
     "data": {
      "text/plain": [
       "array([1993, 1994, 1995, 1996, 1997, 1998], dtype=int64)"
      ]
     },
     "execution_count": 141,
     "metadata": {},
     "output_type": "execute_result"
    }
   ],
   "source": [
    "transactions['DATE2'] = [dt.strptime(add_zero(str(x)), '%d%m%Y') for x in transactions.DATE]\n",
    "transactions['YEAR'] = [x.year for x in transactions.DATE2]\n",
    "transactions['MONTH'] = [x.month for x in transactions.DATE2]\n",
    "transactions.YEAR.unique()"
   ]
  },
  {
   "cell_type": "markdown",
   "metadata": {},
   "source": [
    "Transactions in years 1993-1998"
   ]
  },
  {
   "cell_type": "code",
   "execution_count": 176,
   "metadata": {},
   "outputs": [
    {
     "data": {
      "text/html": [
       "<div>\n",
       "<style scoped>\n",
       "    .dataframe tbody tr th:only-of-type {\n",
       "        vertical-align: middle;\n",
       "    }\n",
       "\n",
       "    .dataframe tbody tr th {\n",
       "        vertical-align: top;\n",
       "    }\n",
       "\n",
       "    .dataframe thead th {\n",
       "        text-align: right;\n",
       "    }\n",
       "</style>\n",
       "<table border=\"1\" class=\"dataframe\">\n",
       "  <thead>\n",
       "    <tr style=\"text-align: right;\">\n",
       "      <th></th>\n",
       "      <th>ACCOUNT_ID</th>\n",
       "      <th>YEAR</th>\n",
       "      <th>MONTH</th>\n",
       "      <th>TYPE</th>\n",
       "      <th>sum</th>\n",
       "    </tr>\n",
       "  </thead>\n",
       "  <tbody>\n",
       "    <tr>\n",
       "      <th>0</th>\n",
       "      <td>1.0</td>\n",
       "      <td>1995</td>\n",
       "      <td>3</td>\n",
       "      <td>CREDIT</td>\n",
       "      <td>1000.0</td>\n",
       "    </tr>\n",
       "    <tr>\n",
       "      <th>1</th>\n",
       "      <td>1.0</td>\n",
       "      <td>1995</td>\n",
       "      <td>4</td>\n",
       "      <td>CREDIT</td>\n",
       "      <td>16298.2</td>\n",
       "    </tr>\n",
       "    <tr>\n",
       "      <th>2</th>\n",
       "      <td>1.0</td>\n",
       "      <td>1995</td>\n",
       "      <td>5</td>\n",
       "      <td>CREDIT</td>\n",
       "      <td>5858.0</td>\n",
       "    </tr>\n",
       "    <tr>\n",
       "      <th>3</th>\n",
       "      <td>1.0</td>\n",
       "      <td>1995</td>\n",
       "      <td>6</td>\n",
       "      <td>CREDIT</td>\n",
       "      <td>3779.6</td>\n",
       "    </tr>\n",
       "    <tr>\n",
       "      <th>4</th>\n",
       "      <td>1.0</td>\n",
       "      <td>1995</td>\n",
       "      <td>6</td>\n",
       "      <td>WITHDRAWAL</td>\n",
       "      <td>200.0</td>\n",
       "    </tr>\n",
       "    <tr>\n",
       "      <th>...</th>\n",
       "      <td>...</td>\n",
       "      <td>...</td>\n",
       "      <td>...</td>\n",
       "      <td>...</td>\n",
       "      <td>...</td>\n",
       "    </tr>\n",
       "    <tr>\n",
       "      <th>278327</th>\n",
       "      <td>11382.0</td>\n",
       "      <td>1998</td>\n",
       "      <td>10</td>\n",
       "      <td>WITHDRAWAL</td>\n",
       "      <td>32014.6</td>\n",
       "    </tr>\n",
       "    <tr>\n",
       "      <th>278328</th>\n",
       "      <td>11382.0</td>\n",
       "      <td>1998</td>\n",
       "      <td>11</td>\n",
       "      <td>CREDIT</td>\n",
       "      <td>31251.1</td>\n",
       "    </tr>\n",
       "    <tr>\n",
       "      <th>278329</th>\n",
       "      <td>11382.0</td>\n",
       "      <td>1998</td>\n",
       "      <td>11</td>\n",
       "      <td>WITHDRAWAL</td>\n",
       "      <td>18914.6</td>\n",
       "    </tr>\n",
       "    <tr>\n",
       "      <th>278330</th>\n",
       "      <td>11382.0</td>\n",
       "      <td>1998</td>\n",
       "      <td>12</td>\n",
       "      <td>CREDIT</td>\n",
       "      <td>46860.4</td>\n",
       "    </tr>\n",
       "    <tr>\n",
       "      <th>278331</th>\n",
       "      <td>11382.0</td>\n",
       "      <td>1998</td>\n",
       "      <td>12</td>\n",
       "      <td>WITHDRAWAL</td>\n",
       "      <td>31900.0</td>\n",
       "    </tr>\n",
       "  </tbody>\n",
       "</table>\n",
       "<p>278332 rows × 5 columns</p>\n",
       "</div>"
      ],
      "text/plain": [
       "        ACCOUNT_ID  YEAR  MONTH        TYPE      sum\n",
       "0              1.0  1995      3      CREDIT   1000.0\n",
       "1              1.0  1995      4      CREDIT  16298.2\n",
       "2              1.0  1995      5      CREDIT   5858.0\n",
       "3              1.0  1995      6      CREDIT   3779.6\n",
       "4              1.0  1995      6  WITHDRAWAL    200.0\n",
       "...            ...   ...    ...         ...      ...\n",
       "278327     11382.0  1998     10  WITHDRAWAL  32014.6\n",
       "278328     11382.0  1998     11      CREDIT  31251.1\n",
       "278329     11382.0  1998     11  WITHDRAWAL  18914.6\n",
       "278330     11382.0  1998     12      CREDIT  46860.4\n",
       "278331     11382.0  1998     12  WITHDRAWAL  31900.0\n",
       "\n",
       "[278332 rows x 5 columns]"
      ]
     },
     "execution_count": 176,
     "metadata": {},
     "output_type": "execute_result"
    }
   ],
   "source": [
    "transactions_agg = transactions.groupby(['ACCOUNT_ID','YEAR','MONTH','TYPE']).agg({'AMOUNT':{'sum'}})\n",
    "transactions_agg.columns = transactions_agg.columns.get_level_values(1)\n",
    "transactions_agg.reset_index()"
   ]
  },
  {
   "cell_type": "code",
   "execution_count": 177,
   "metadata": {},
   "outputs": [
    {
     "data": {
      "text/html": [
       "<div>\n",
       "<style scoped>\n",
       "    .dataframe tbody tr th:only-of-type {\n",
       "        vertical-align: middle;\n",
       "    }\n",
       "\n",
       "    .dataframe tbody tr th {\n",
       "        vertical-align: top;\n",
       "    }\n",
       "\n",
       "    .dataframe thead th {\n",
       "        text-align: right;\n",
       "    }\n",
       "</style>\n",
       "<table border=\"1\" class=\"dataframe\">\n",
       "  <thead>\n",
       "    <tr style=\"text-align: right;\">\n",
       "      <th></th>\n",
       "      <th>ACCOUNT_ID</th>\n",
       "      <th>TYPE</th>\n",
       "      <th>mean</th>\n",
       "    </tr>\n",
       "  </thead>\n",
       "  <tbody>\n",
       "    <tr>\n",
       "      <th>0</th>\n",
       "      <td>1.0</td>\n",
       "      <td>CREDIT</td>\n",
       "      <td>4224.358696</td>\n",
       "    </tr>\n",
       "    <tr>\n",
       "      <th>1</th>\n",
       "      <td>1.0</td>\n",
       "      <td>WITHDRAWAL</td>\n",
       "      <td>4205.906977</td>\n",
       "    </tr>\n",
       "    <tr>\n",
       "      <th>2</th>\n",
       "      <td>2.0</td>\n",
       "      <td>CREDIT</td>\n",
       "      <td>22206.774648</td>\n",
       "    </tr>\n",
       "    <tr>\n",
       "      <th>3</th>\n",
       "      <td>2.0</td>\n",
       "      <td>WITHDRAWAL</td>\n",
       "      <td>22527.910145</td>\n",
       "    </tr>\n",
       "    <tr>\n",
       "      <th>4</th>\n",
       "      <td>5.0</td>\n",
       "      <td>CREDIT</td>\n",
       "      <td>4874.250000</td>\n",
       "    </tr>\n",
       "    <tr>\n",
       "      <th>...</th>\n",
       "      <td>...</td>\n",
       "      <td>...</td>\n",
       "      <td>...</td>\n",
       "    </tr>\n",
       "    <tr>\n",
       "      <th>7037</th>\n",
       "      <td>11359.0</td>\n",
       "      <td>WITHDRAWAL</td>\n",
       "      <td>28165.494118</td>\n",
       "    </tr>\n",
       "    <tr>\n",
       "      <th>7038</th>\n",
       "      <td>11362.0</td>\n",
       "      <td>CREDIT</td>\n",
       "      <td>17545.402564</td>\n",
       "    </tr>\n",
       "    <tr>\n",
       "      <th>7039</th>\n",
       "      <td>11362.0</td>\n",
       "      <td>WITHDRAWAL</td>\n",
       "      <td>17342.156757</td>\n",
       "    </tr>\n",
       "    <tr>\n",
       "      <th>7040</th>\n",
       "      <td>11382.0</td>\n",
       "      <td>CREDIT</td>\n",
       "      <td>32985.817073</td>\n",
       "    </tr>\n",
       "    <tr>\n",
       "      <th>7041</th>\n",
       "      <td>11382.0</td>\n",
       "      <td>WITHDRAWAL</td>\n",
       "      <td>31708.585000</td>\n",
       "    </tr>\n",
       "  </tbody>\n",
       "</table>\n",
       "<p>7042 rows × 3 columns</p>\n",
       "</div>"
      ],
      "text/plain": [
       "      ACCOUNT_ID        TYPE          mean\n",
       "0            1.0      CREDIT   4224.358696\n",
       "1            1.0  WITHDRAWAL   4205.906977\n",
       "2            2.0      CREDIT  22206.774648\n",
       "3            2.0  WITHDRAWAL  22527.910145\n",
       "4            5.0      CREDIT   4874.250000\n",
       "...          ...         ...           ...\n",
       "7037     11359.0  WITHDRAWAL  28165.494118\n",
       "7038     11362.0      CREDIT  17545.402564\n",
       "7039     11362.0  WITHDRAWAL  17342.156757\n",
       "7040     11382.0      CREDIT  32985.817073\n",
       "7041     11382.0  WITHDRAWAL  31708.585000\n",
       "\n",
       "[7042 rows x 3 columns]"
      ]
     },
     "execution_count": 177,
     "metadata": {},
     "output_type": "execute_result"
    }
   ],
   "source": [
    "transactions_agg = transactions_agg.groupby(['ACCOUNT_ID','TYPE']).agg({'sum':{'mean'}})\n",
    "transactions_agg.columns = transactions_agg.columns.get_level_values(1)\n",
    "transactions_agg.reset_index()"
   ]
  },
  {
   "cell_type": "code",
   "execution_count": 178,
   "metadata": {},
   "outputs": [],
   "source": [
    "transactions_agg_p = transactions_agg.pivot_table(index=['ACCOUNT_ID'], columns= ['TYPE'], values=['mean'])\n",
    "transactions_agg_p.fillna(0)\n",
    "transactions_agg_p.columns = transactions_agg_p.columns.get_level_values(1)\n",
    "transactions_agg_p['TURNOVER'] = transactions_agg_p.CREDIT + transactions_agg_p.WITHDRAWAL\n",
    "# add target variable\n",
    "transactions_agg_p = transactions_agg_p.merge(customers[['ACCOUNT_ID','LOAN']], on='ACCOUNT_ID')"
   ]
  },
  {
   "cell_type": "code",
   "execution_count": 188,
   "metadata": {},
   "outputs": [
    {
     "data": {
      "text/html": [
       "<div>\n",
       "<style scoped>\n",
       "    .dataframe tbody tr th:only-of-type {\n",
       "        vertical-align: middle;\n",
       "    }\n",
       "\n",
       "    .dataframe tbody tr th {\n",
       "        vertical-align: top;\n",
       "    }\n",
       "\n",
       "    .dataframe thead th {\n",
       "        text-align: right;\n",
       "    }\n",
       "</style>\n",
       "<table border=\"1\" class=\"dataframe\">\n",
       "  <thead>\n",
       "    <tr style=\"text-align: right;\">\n",
       "      <th></th>\n",
       "      <th>ACCOUNT_ID</th>\n",
       "      <th>CREDIT</th>\n",
       "      <th>WITHDRAWAL</th>\n",
       "      <th>TURNOVER</th>\n",
       "      <th>LOAN</th>\n",
       "    </tr>\n",
       "  </thead>\n",
       "  <tbody>\n",
       "    <tr>\n",
       "      <th>0</th>\n",
       "      <td>1.0</td>\n",
       "      <td>4224.358696</td>\n",
       "      <td>4205.906977</td>\n",
       "      <td>18.451719</td>\n",
       "      <td>0.0</td>\n",
       "    </tr>\n",
       "    <tr>\n",
       "      <th>1</th>\n",
       "      <td>2.0</td>\n",
       "      <td>22206.774648</td>\n",
       "      <td>22527.910145</td>\n",
       "      <td>-321.135497</td>\n",
       "      <td>1.0</td>\n",
       "    </tr>\n",
       "    <tr>\n",
       "      <th>2</th>\n",
       "      <td>5.0</td>\n",
       "      <td>4874.250000</td>\n",
       "      <td>4626.426667</td>\n",
       "      <td>247.823333</td>\n",
       "      <td>0.0</td>\n",
       "    </tr>\n",
       "    <tr>\n",
       "      <th>3</th>\n",
       "      <td>6.0</td>\n",
       "      <td>6684.951923</td>\n",
       "      <td>6381.595745</td>\n",
       "      <td>303.356178</td>\n",
       "      <td>0.0</td>\n",
       "    </tr>\n",
       "    <tr>\n",
       "      <th>4</th>\n",
       "      <td>7.0</td>\n",
       "      <td>24241.073077</td>\n",
       "      <td>22470.880000</td>\n",
       "      <td>1770.193077</td>\n",
       "      <td>0.0</td>\n",
       "    </tr>\n",
       "  </tbody>\n",
       "</table>\n",
       "</div>"
      ],
      "text/plain": [
       "   ACCOUNT_ID        CREDIT    WITHDRAWAL     TURNOVER  LOAN\n",
       "0         1.0   4224.358696   4205.906977    18.451719   0.0\n",
       "1         2.0  22206.774648  22527.910145  -321.135497   1.0\n",
       "2         5.0   4874.250000   4626.426667   247.823333   0.0\n",
       "3         6.0   6684.951923   6381.595745   303.356178   0.0\n",
       "4         7.0  24241.073077  22470.880000  1770.193077   0.0"
      ]
     },
     "execution_count": 188,
     "metadata": {},
     "output_type": "execute_result"
    }
   ],
   "source": [
    "transactions_agg_p.head()"
   ]
  },
  {
   "cell_type": "code",
   "execution_count": 189,
   "metadata": {},
   "outputs": [
    {
     "data": {
      "text/plain": [
       "<matplotlib.axes._subplots.AxesSubplot at 0x2a054b63f60>"
      ]
     },
     "execution_count": 189,
     "metadata": {},
     "output_type": "execute_result"
    },
    {
     "data": {
      "image/png": "[encoded data removed]",
      "text/plain": [
       "<Figure size 432x288 with 1 Axes>"
      ]
     },
     "metadata": {
      "needs_background": "light"
     },
     "output_type": "display_data"
    }
   ],
   "source": [
    "sns.boxplot(data=transactions_agg_p, x=\"LOAN\", y=\"CREDIT\")"
   ]
  },
  {
   "cell_type": "code",
   "execution_count": 191,
   "metadata": {},
   "outputs": [
    {
     "data": {
      "text/plain": [
       "<matplotlib.axes._subplots.AxesSubplot at 0x2a0721f3630>"
      ]
     },
     "execution_count": 191,
     "metadata": {},
     "output_type": "execute_result"
    },
    {
     "data": {
      "image/png": "[encoded data removed]",
      "text/plain": [
       "<Figure size 432x288 with 1 Axes>"
      ]
     },
     "metadata": {
      "needs_background": "light"
     },
     "output_type": "display_data"
    }
   ],
   "source": [
    "sns.boxplot(data=transactions_agg_p, x=\"LOAN\", y=\"WITHDRAWAL\")"
   ]
  },
  {
   "cell_type": "markdown",
   "metadata": {},
   "source": [
    "Bank is more likely to give a loan to customers with higher turnover."
   ]
  },
  {
   "cell_type": "code",
   "execution_count": 197,
   "metadata": {},
   "outputs": [
    {
     "data": {
      "text/plain": [
       "<matplotlib.axes._subplots.AxesSubplot at 0x2a072d58588>"
      ]
     },
     "execution_count": 197,
     "metadata": {},
     "output_type": "execute_result"
    },
    {
     "data": {
      "image/png": "[encoded data removed]",
      "text/plain": [
       "<Figure size 432x288 with 1 Axes>"
      ]
     },
     "metadata": {
      "needs_background": "light"
     },
     "output_type": "display_data"
    }
   ],
   "source": [
    "sns.boxplot(data=transactions_agg_p, x=\"LOAN\", y=\"TURNOVER\")"
   ]
  },
  {
   "cell_type": "markdown",
   "metadata": {},
   "source": [
    "Possible further steps:\n",
    "* analyze OPERATION is simmilar manner, to see correlation with taget variable\n",
    "* perform segmentation based on transactional data, label of segmentation could be possible features for predicting model"
   ]
  }
 ],
 "metadata": {
  "kernelspec": {
   "display_name": "Python 3",
   "language": "python",
   "name": "python3"
  },
  "language_info": {
   "codemirror_mode": {
    "name": "ipython",
    "version": 3
   },
   "file_extension": ".py",
   "mimetype": "text/x-python",
   "name": "python",
   "nbconvert_exporter": "python",
   "pygments_lexer": "ipython3",
   "version": "3.7.3"
  }
 },
 "nbformat": 4,
 "nbformat_minor": 2
}
