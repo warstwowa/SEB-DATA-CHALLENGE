{
 "cells": [
  {
   "cell_type": "markdown",
   "metadata": {},
   "source": [
    "## SEB DATA CHALLENGE\n",
    "### BY KATARZYNA SOSNOWSKA\n",
    "First part of SEB DATA CHALLENGE is to explore the data and extract insights about the customers. Firstly, I check data quality: handle missing values and wrong values (e.g. inconsistent naming in categorical variables or date of birth suggesting active, 200-years-old customer). Secondly I will check distribution of selected variables to get insights about customer poulation and get inspiration for visualising findings."
   ]
  },
  {
   "cell_type": "code",
   "execution_count": 1,
   "metadata": {},
   "outputs": [
    {
     "name": "stderr",
     "output_type": "stream",
     "text": [
      "C:\\Users\\katar\\Anaconda3\\lib\\site-packages\\pandas\\compat\\_optional.py:138: UserWarning: Pandas requires version '2.7.0' or newer of 'numexpr' (version '2.6.9' currently installed).\n",
      "  warnings.warn(msg, UserWarning)\n"
     ]
    }
   ],
   "source": [
    "# importing libraries\n",
    "import pandas as pd\n",
    "import numpy as np\n",
    "from datetime import datetime as dt\n",
    "from datetime import date\n",
    "from dateutil.relativedelta import relativedelta\n",
    "import seaborn as sns"
   ]
  },
  {
   "cell_type": "code",
   "execution_count": 7,
   "metadata": {},
   "outputs": [],
   "source": [
    "# loading data\n",
    "customers = pd.read_csv(\"data_updated/customers.csv\")\n",
    "districts = pd.read_csv(\"data_updated/districts.csv\")\n",
    "transactions = pd.read_csv(\"data_updated/transactions.csv\")"
   ]
  },
  {
   "cell_type": "code",
   "execution_count": 3,
   "metadata": {},
   "outputs": [],
   "source": [
    "# setting aside \"TEST\" dataset. It is also common pracitce to set aside additional \"VALIDATION\" set, but I don't expect to have \n",
    "# enough time to fully utilize it.\n",
    "\n",
    "customers_train = customers[customers.SET_SPLIT == 'TRAIN']\n",
    "customers_test = customers[customers.SET_SPLIT == 'TEST']\n",
    "\n"
   ]
  },
  {
   "cell_type": "code",
   "execution_count": 8,
   "metadata": {},
   "outputs": [],
   "source": [
    "# setting aside transactions of customers in \"TEST\" dataset\n",
    "transactions = transactions.merge(customers[['ACCOUNT_ID','SET_SPLIT']], on='ACCOUNT_ID', how='left')\n",
    "transactions_train = transactions[transactions.SET_SPLIT == 'TRAIN']\n",
    "transactions_test = transactions[transactions.SET_SPLIT == 'TEST']"
   ]
  },
  {
   "cell_type": "code",
   "execution_count": 9,
   "metadata": {},
   "outputs": [
    {
     "data": {
      "text/plain": [
       "17017"
      ]
     },
     "execution_count": 9,
     "metadata": {},
     "output_type": "execute_result"
    }
   ],
   "source": [
    "# checking if above split went ok\n",
    "transactions.shape[0] - transactions_train.shape[0] - transactions_test.shape[0]"
   ]
  },
  {
   "cell_type": "markdown",
   "metadata": {},
   "source": [
    "I was expecting 0 here, but possible explanation is either some transactions are missing ACCOUNT_ID or there are also transactions ACCOUNT_IDs for customers not in analyzes population. I will check that during quality checks of transactions table."
   ]
  },
  {
   "cell_type": "code",
   "execution_count": 10,
   "metadata": {},
   "outputs": [],
   "source": [
    "# transactions for customers outside target population or missing ACCOUNT_ID\n",
    "transactions_other = transactions[transactions.SET_SPLIT.isna()]"
   ]
  },
  {
   "cell_type": "code",
   "execution_count": 11,
   "metadata": {},
   "outputs": [
    {
     "data": {
      "text/plain": [
       "0"
      ]
     },
     "execution_count": 11,
     "metadata": {},
     "output_type": "execute_result"
    }
   ],
   "source": [
    "transactions.shape[0] - transactions_train.shape[0] - transactions_test.shape[0] - transactions_other.shape[0]"
   ]
  },
  {
   "cell_type": "markdown",
   "metadata": {},
   "source": [
    "Split is ok."
   ]
  },
  {
   "cell_type": "code",
   "execution_count": 12,
   "metadata": {},
   "outputs": [
    {
     "name": "stderr",
     "output_type": "stream",
     "text": [
      "C:\\Users\\katar\\Anaconda3\\lib\\site-packages\\pandas\\core\\frame.py:4913: SettingWithCopyWarning: \n",
      "A value is trying to be set on a copy of a slice from a DataFrame\n",
      "\n",
      "See the caveats in the documentation: https://pandas.pydata.org/pandas-docs/stable/user_guide/indexing.html#returning-a-view-versus-a-copy\n",
      "  errors=errors,\n"
     ]
    }
   ],
   "source": [
    "# dropping \"SET_SPLIT\" column\n",
    "customers_train.drop(columns=['SET_SPLIT'], inplace=True)\n",
    "customers_test.drop(columns=['SET_SPLIT'], inplace=True)\n",
    "transactions_train.drop(columns=['SET_SPLIT'], inplace=True)\n",
    "transactions_test.drop(columns=['SET_SPLIT'], inplace=True)"
   ]
  },
  {
   "cell_type": "markdown",
   "metadata": {},
   "source": [
    "### Data quality checkes for customers_train table"
   ]
  },
  {
   "cell_type": "code",
   "execution_count": 4,
   "metadata": {},
   "outputs": [
    {
     "data": {
      "text/plain": [
       "Index(['CLIENT_ID', 'ACCOUNT_ID', 'GENDER', 'BIRTH_DT', 'ACTIVE', 'LOAN',\n",
       "       'DISTRICT_ID'],\n",
       "      dtype='object')"
      ]
     },
     "execution_count": 4,
     "metadata": {},
     "output_type": "execute_result"
    }
   ],
   "source": [
    "# data quality checks for customers_train table. Printing column names, I will assess quality of each column.\n",
    "customers_train.columns"
   ]
  },
  {
   "cell_type": "code",
   "execution_count": 5,
   "metadata": {},
   "outputs": [
    {
     "data": {
      "text/plain": [
       "CLIENT_ID       0\n",
       "ACCOUNT_ID      0\n",
       "GENDER          0\n",
       "BIRTH_DT        0\n",
       "ACTIVE          0\n",
       "LOAN           40\n",
       "DISTRICT_ID     0\n",
       "dtype: int64"
      ]
     },
     "execution_count": 5,
     "metadata": {},
     "output_type": "execute_result"
    }
   ],
   "source": [
    "# check for missing values\n",
    "customers_train.isna().sum()"
   ]
  },
  {
   "cell_type": "code",
   "execution_count": 84,
   "metadata": {},
   "outputs": [
    {
     "data": {
      "text/plain": [
       "0.011232799775344004"
      ]
     },
     "execution_count": 84,
     "metadata": {},
     "output_type": "execute_result"
    }
   ],
   "source": [
    "# check what % of population has missing target variable\n",
    "customers_train.isna().sum().LOAN / customers_train.shape[0]"
   ]
  },
  {
   "cell_type": "markdown",
   "metadata": {},
   "source": [
    "Only column 'LOANS' has null values. Since it's target variable for second part of SEB DATA CHALLENGE, it's not reccomended to attempt imputing it. Furthermore, it's only approx. 1% of population which is missing this value, so best choice is to drop them from the table. Need to update transactions_train accordingly."
   ]
  },
  {
   "cell_type": "code",
   "execution_count": 70,
   "metadata": {},
   "outputs": [],
   "source": [
    "#dropping rows missing target variable\n",
    "customers_train = customers_train[~customers_train.LOAN.isna()]"
   ]
  },
  {
   "cell_type": "code",
   "execution_count": 80,
   "metadata": {},
   "outputs": [
    {
     "data": {
      "text/html": [
       "<div>\n",
       "<style scoped>\n",
       "    .dataframe tbody tr th:only-of-type {\n",
       "        vertical-align: middle;\n",
       "    }\n",
       "\n",
       "    .dataframe tbody tr th {\n",
       "        vertical-align: top;\n",
       "    }\n",
       "\n",
       "    .dataframe thead th {\n",
       "        text-align: right;\n",
       "    }\n",
       "</style>\n",
       "<table border=\"1\" class=\"dataframe\">\n",
       "  <thead>\n",
       "    <tr style=\"text-align: right;\">\n",
       "      <th></th>\n",
       "      <th>TRANS_ID</th>\n",
       "      <th>ACCOUNT_ID</th>\n",
       "      <th>DATE</th>\n",
       "      <th>AMOUNT</th>\n",
       "      <th>BALANCE</th>\n",
       "      <th>TYPE</th>\n",
       "      <th>OPERATION</th>\n",
       "    </tr>\n",
       "  </thead>\n",
       "  <tbody>\n",
       "    <tr>\n",
       "      <th>0</th>\n",
       "      <td>695247</td>\n",
       "      <td>2378.0</td>\n",
       "      <td>1011993</td>\n",
       "      <td>700.0</td>\n",
       "      <td>700.0</td>\n",
       "      <td>CREDIT</td>\n",
       "      <td>CREDIT_IN_CASH</td>\n",
       "    </tr>\n",
       "    <tr>\n",
       "      <th>1</th>\n",
       "      <td>695250</td>\n",
       "      <td>2378.0</td>\n",
       "      <td>22011993</td>\n",
       "      <td>7268.0</td>\n",
       "      <td>7968.0</td>\n",
       "      <td>CREDIT</td>\n",
       "      <td>CREDIT_IN_CASH</td>\n",
       "    </tr>\n",
       "    <tr>\n",
       "      <th>2</th>\n",
       "      <td>695266</td>\n",
       "      <td>2378.0</td>\n",
       "      <td>23011993</td>\n",
       "      <td>14440.0</td>\n",
       "      <td>22408.0</td>\n",
       "      <td>CREDIT</td>\n",
       "      <td>CREDIT_IN_CASH</td>\n",
       "    </tr>\n",
       "    <tr>\n",
       "      <th>3</th>\n",
       "      <td>695262</td>\n",
       "      <td>2378.0</td>\n",
       "      <td>24011993</td>\n",
       "      <td>49752.0</td>\n",
       "      <td>72160.0</td>\n",
       "      <td>CREDIT</td>\n",
       "      <td>CREDIT_IN_CASH</td>\n",
       "    </tr>\n",
       "    <tr>\n",
       "      <th>4</th>\n",
       "      <td>695265</td>\n",
       "      <td>2378.0</td>\n",
       "      <td>26011993</td>\n",
       "      <td>21899.0</td>\n",
       "      <td>94059.0</td>\n",
       "      <td>CREDIT</td>\n",
       "      <td>CREDIT_IN_CASH</td>\n",
       "    </tr>\n",
       "    <tr>\n",
       "      <th>5</th>\n",
       "      <td>3608592</td>\n",
       "      <td>2378.0</td>\n",
       "      <td>31011993</td>\n",
       "      <td>94.7</td>\n",
       "      <td>94153.7</td>\n",
       "      <td>CREDIT</td>\n",
       "      <td>NaN</td>\n",
       "    </tr>\n",
       "    <tr>\n",
       "      <th>6</th>\n",
       "      <td>695560</td>\n",
       "      <td>2378.0</td>\n",
       "      <td>31011993</td>\n",
       "      <td>34700.0</td>\n",
       "      <td>59453.7</td>\n",
       "      <td>WITHDRAWAL</td>\n",
       "      <td>WITHDRAWAL_IN_CASH</td>\n",
       "    </tr>\n",
       "    <tr>\n",
       "      <th>7</th>\n",
       "      <td>695272</td>\n",
       "      <td>2378.0</td>\n",
       "      <td>5021993</td>\n",
       "      <td>30192.0</td>\n",
       "      <td>89645.7</td>\n",
       "      <td>CREDIT</td>\n",
       "      <td>CREDIT_IN_CASH</td>\n",
       "    </tr>\n",
       "    <tr>\n",
       "      <th>8</th>\n",
       "      <td>695340</td>\n",
       "      <td>2378.0</td>\n",
       "      <td>7021993</td>\n",
       "      <td>9612.0</td>\n",
       "      <td>80033.7</td>\n",
       "      <td>WITHDRAWAL</td>\n",
       "      <td>REMITTANCE_TO_OTHER_BANK</td>\n",
       "    </tr>\n",
       "    <tr>\n",
       "      <th>9</th>\n",
       "      <td>695561</td>\n",
       "      <td>2378.0</td>\n",
       "      <td>11021993</td>\n",
       "      <td>25200.0</td>\n",
       "      <td>85871.7</td>\n",
       "      <td>WITHDRAWAL</td>\n",
       "      <td>WITHDRAWAL_IN_CASH</td>\n",
       "    </tr>\n",
       "    <tr>\n",
       "      <th>10</th>\n",
       "      <td>695270</td>\n",
       "      <td>2378.0</td>\n",
       "      <td>11021993</td>\n",
       "      <td>31038.0</td>\n",
       "      <td>111071.7</td>\n",
       "      <td>CREDIT</td>\n",
       "      <td>CREDIT_IN_CASH</td>\n",
       "    </tr>\n",
       "    <tr>\n",
       "      <th>11</th>\n",
       "      <td>695251</td>\n",
       "      <td>2378.0</td>\n",
       "      <td>20021993</td>\n",
       "      <td>19136.0</td>\n",
       "      <td>105007.7</td>\n",
       "      <td>CREDIT</td>\n",
       "      <td>CREDIT_IN_CASH</td>\n",
       "    </tr>\n",
       "    <tr>\n",
       "      <th>12</th>\n",
       "      <td>695562</td>\n",
       "      <td>2378.0</td>\n",
       "      <td>20021993</td>\n",
       "      <td>33900.0</td>\n",
       "      <td>71107.7</td>\n",
       "      <td>WITHDRAWAL</td>\n",
       "      <td>WITHDRAWAL_IN_CASH</td>\n",
       "    </tr>\n",
       "    <tr>\n",
       "      <th>13</th>\n",
       "      <td>695251</td>\n",
       "      <td>2378.0</td>\n",
       "      <td>20021993</td>\n",
       "      <td>19136.0</td>\n",
       "      <td>105007.7</td>\n",
       "      <td>CREDIT</td>\n",
       "      <td>CREDIT_IN_CASH</td>\n",
       "    </tr>\n",
       "    <tr>\n",
       "      <th>14</th>\n",
       "      <td>3608593</td>\n",
       "      <td>2378.0</td>\n",
       "      <td>28021993</td>\n",
       "      <td>344.8</td>\n",
       "      <td>71452.4</td>\n",
       "      <td>CREDIT</td>\n",
       "      <td>NaN</td>\n",
       "    </tr>\n",
       "    <tr>\n",
       "      <th>15</th>\n",
       "      <td>695490</td>\n",
       "      <td>2378.0</td>\n",
       "      <td>28021993</td>\n",
       "      <td>14.6</td>\n",
       "      <td>71437.8</td>\n",
       "      <td>WITHDRAWAL</td>\n",
       "      <td>WITHDRAWAL_IN_CASH</td>\n",
       "    </tr>\n",
       "    <tr>\n",
       "      <th>16</th>\n",
       "      <td>695563</td>\n",
       "      <td>2378.0</td>\n",
       "      <td>2031993</td>\n",
       "      <td>21400.0</td>\n",
       "      <td>50037.8</td>\n",
       "      <td>WITHDRAWAL</td>\n",
       "      <td>WITHDRAWAL_IN_CASH</td>\n",
       "    </tr>\n",
       "    <tr>\n",
       "      <th>17</th>\n",
       "      <td>695254</td>\n",
       "      <td>2378.0</td>\n",
       "      <td>3031993</td>\n",
       "      <td>7077.0</td>\n",
       "      <td>57114.8</td>\n",
       "      <td>CREDIT</td>\n",
       "      <td>CREDIT_IN_CASH</td>\n",
       "    </tr>\n",
       "    <tr>\n",
       "      <th>18</th>\n",
       "      <td>695341</td>\n",
       "      <td>2378.0</td>\n",
       "      <td>7031993</td>\n",
       "      <td>9612.0</td>\n",
       "      <td>47502.8</td>\n",
       "      <td>WITHDRAWAL</td>\n",
       "      <td>REMITTANCE_TO_OTHER_BANK</td>\n",
       "    </tr>\n",
       "    <tr>\n",
       "      <th>19</th>\n",
       "      <td>3608594</td>\n",
       "      <td>2378.0</td>\n",
       "      <td>31031993</td>\n",
       "      <td>209.4</td>\n",
       "      <td>47712.2</td>\n",
       "      <td>CREDIT</td>\n",
       "      <td>NaN</td>\n",
       "    </tr>\n",
       "    <tr>\n",
       "      <th>20</th>\n",
       "      <td>695491</td>\n",
       "      <td>2378.0</td>\n",
       "      <td>31031993</td>\n",
       "      <td>14.6</td>\n",
       "      <td>47697.6</td>\n",
       "      <td>WITHDRAWAL</td>\n",
       "      <td>WITHDRAWAL_IN_CASH</td>\n",
       "    </tr>\n",
       "    <tr>\n",
       "      <th>21</th>\n",
       "      <td>695564</td>\n",
       "      <td>2378.0</td>\n",
       "      <td>1041993</td>\n",
       "      <td>13500.0</td>\n",
       "      <td>34197.6</td>\n",
       "      <td>WITHDRAWAL</td>\n",
       "      <td>WITHDRAWAL_IN_CASH</td>\n",
       "    </tr>\n",
       "    <tr>\n",
       "      <th>22</th>\n",
       "      <td>695342</td>\n",
       "      <td>2378.0</td>\n",
       "      <td>7041993</td>\n",
       "      <td>9612.0</td>\n",
       "      <td>24585.6</td>\n",
       "      <td>WITHDRAWAL</td>\n",
       "      <td>REMITTANCE_TO_OTHER_BANK</td>\n",
       "    </tr>\n",
       "    <tr>\n",
       "      <th>23</th>\n",
       "      <td>695259</td>\n",
       "      <td>2378.0</td>\n",
       "      <td>19041993</td>\n",
       "      <td>29841.0</td>\n",
       "      <td>54426.6</td>\n",
       "      <td>CREDIT</td>\n",
       "      <td>CREDIT_IN_CASH</td>\n",
       "    </tr>\n",
       "    <tr>\n",
       "      <th>24</th>\n",
       "      <td>695460</td>\n",
       "      <td>2378.0</td>\n",
       "      <td>22041993</td>\n",
       "      <td>1500.0</td>\n",
       "      <td>52926.6</td>\n",
       "      <td>WITHDRAWAL</td>\n",
       "      <td>WITHDRAWAL_IN_CASH</td>\n",
       "    </tr>\n",
       "    <tr>\n",
       "      <th>25</th>\n",
       "      <td>695269</td>\n",
       "      <td>2378.0</td>\n",
       "      <td>26041993</td>\n",
       "      <td>15105.0</td>\n",
       "      <td>68031.6</td>\n",
       "      <td>CREDIT</td>\n",
       "      <td>CREDIT_IN_CASH</td>\n",
       "    </tr>\n",
       "    <tr>\n",
       "      <th>26</th>\n",
       "      <td>3608595</td>\n",
       "      <td>2378.0</td>\n",
       "      <td>30041993</td>\n",
       "      <td>179.9</td>\n",
       "      <td>68211.6</td>\n",
       "      <td>CREDIT</td>\n",
       "      <td>NaN</td>\n",
       "    </tr>\n",
       "    <tr>\n",
       "      <th>27</th>\n",
       "      <td>695492</td>\n",
       "      <td>2378.0</td>\n",
       "      <td>30041993</td>\n",
       "      <td>14.6</td>\n",
       "      <td>68197.0</td>\n",
       "      <td>WITHDRAWAL</td>\n",
       "      <td>WITHDRAWAL_IN_CASH</td>\n",
       "    </tr>\n",
       "    <tr>\n",
       "      <th>28</th>\n",
       "      <td>695565</td>\n",
       "      <td>2378.0</td>\n",
       "      <td>1051993</td>\n",
       "      <td>22700.0</td>\n",
       "      <td>45497.0</td>\n",
       "      <td>WITHDRAWAL</td>\n",
       "      <td>WITHDRAWAL_IN_CASH</td>\n",
       "    </tr>\n",
       "    <tr>\n",
       "      <th>29</th>\n",
       "      <td>695264</td>\n",
       "      <td>2378.0</td>\n",
       "      <td>2051993</td>\n",
       "      <td>42538.0</td>\n",
       "      <td>88035.0</td>\n",
       "      <td>CREDIT</td>\n",
       "      <td>CREDIT_IN_CASH</td>\n",
       "    </tr>\n",
       "    <tr>\n",
       "      <th>...</th>\n",
       "      <td>...</td>\n",
       "      <td>...</td>\n",
       "      <td>...</td>\n",
       "      <td>...</td>\n",
       "      <td>...</td>\n",
       "      <td>...</td>\n",
       "      <td>...</td>\n",
       "    </tr>\n",
       "    <tr>\n",
       "      <th>841738</th>\n",
       "      <td>3582057</td>\n",
       "      <td>1573.0</td>\n",
       "      <td>30061998</td>\n",
       "      <td>60.4</td>\n",
       "      <td>11358.4</td>\n",
       "      <td>CREDIT</td>\n",
       "      <td>NaN</td>\n",
       "    </tr>\n",
       "    <tr>\n",
       "      <th>841739</th>\n",
       "      <td>462673</td>\n",
       "      <td>1573.0</td>\n",
       "      <td>30061998</td>\n",
       "      <td>14.6</td>\n",
       "      <td>11343.8</td>\n",
       "      <td>WITHDRAWAL</td>\n",
       "      <td>WITHDRAWAL_IN_CASH</td>\n",
       "    </tr>\n",
       "    <tr>\n",
       "      <th>841740</th>\n",
       "      <td>462593</td>\n",
       "      <td>1573.0</td>\n",
       "      <td>9071998</td>\n",
       "      <td>5492.0</td>\n",
       "      <td>16835.8</td>\n",
       "      <td>CREDIT</td>\n",
       "      <td>COLLECTION_FROM_OTHER_BANK</td>\n",
       "    </tr>\n",
       "    <tr>\n",
       "      <th>841741</th>\n",
       "      <td>462617</td>\n",
       "      <td>1573.0</td>\n",
       "      <td>11071998</td>\n",
       "      <td>3638.0</td>\n",
       "      <td>13197.8</td>\n",
       "      <td>WITHDRAWAL</td>\n",
       "      <td>REMITTANCE_TO_OTHER_BANK</td>\n",
       "    </tr>\n",
       "    <tr>\n",
       "      <th>841742</th>\n",
       "      <td>3582058</td>\n",
       "      <td>1573.0</td>\n",
       "      <td>31071998</td>\n",
       "      <td>52.5</td>\n",
       "      <td>13250.3</td>\n",
       "      <td>CREDIT</td>\n",
       "      <td>NaN</td>\n",
       "    </tr>\n",
       "    <tr>\n",
       "      <th>841743</th>\n",
       "      <td>462674</td>\n",
       "      <td>1573.0</td>\n",
       "      <td>31071998</td>\n",
       "      <td>14.6</td>\n",
       "      <td>13235.7</td>\n",
       "      <td>WITHDRAWAL</td>\n",
       "      <td>WITHDRAWAL_IN_CASH</td>\n",
       "    </tr>\n",
       "    <tr>\n",
       "      <th>841744</th>\n",
       "      <td>462594</td>\n",
       "      <td>1573.0</td>\n",
       "      <td>9081998</td>\n",
       "      <td>5492.0</td>\n",
       "      <td>18727.7</td>\n",
       "      <td>CREDIT</td>\n",
       "      <td>COLLECTION_FROM_OTHER_BANK</td>\n",
       "    </tr>\n",
       "    <tr>\n",
       "      <th>841745</th>\n",
       "      <td>462618</td>\n",
       "      <td>1573.0</td>\n",
       "      <td>11081998</td>\n",
       "      <td>3638.0</td>\n",
       "      <td>15089.7</td>\n",
       "      <td>WITHDRAWAL</td>\n",
       "      <td>REMITTANCE_TO_OTHER_BANK</td>\n",
       "    </tr>\n",
       "    <tr>\n",
       "      <th>841746</th>\n",
       "      <td>462682</td>\n",
       "      <td>1573.0</td>\n",
       "      <td>26081998</td>\n",
       "      <td>2400.0</td>\n",
       "      <td>12689.7</td>\n",
       "      <td>WITHDRAWAL</td>\n",
       "      <td>WITHDRAWAL_IN_CASH</td>\n",
       "    </tr>\n",
       "    <tr>\n",
       "      <th>841747</th>\n",
       "      <td>3582059</td>\n",
       "      <td>1573.0</td>\n",
       "      <td>31081998</td>\n",
       "      <td>58.4</td>\n",
       "      <td>12748.1</td>\n",
       "      <td>CREDIT</td>\n",
       "      <td>NaN</td>\n",
       "    </tr>\n",
       "    <tr>\n",
       "      <th>841748</th>\n",
       "      <td>462675</td>\n",
       "      <td>1573.0</td>\n",
       "      <td>31081998</td>\n",
       "      <td>14.6</td>\n",
       "      <td>12733.5</td>\n",
       "      <td>WITHDRAWAL</td>\n",
       "      <td>WITHDRAWAL_IN_CASH</td>\n",
       "    </tr>\n",
       "    <tr>\n",
       "      <th>841749</th>\n",
       "      <td>462595</td>\n",
       "      <td>1573.0</td>\n",
       "      <td>9091998</td>\n",
       "      <td>5492.0</td>\n",
       "      <td>18225.5</td>\n",
       "      <td>CREDIT</td>\n",
       "      <td>COLLECTION_FROM_OTHER_BANK</td>\n",
       "    </tr>\n",
       "    <tr>\n",
       "      <th>841750</th>\n",
       "      <td>462619</td>\n",
       "      <td>1573.0</td>\n",
       "      <td>11091998</td>\n",
       "      <td>3638.0</td>\n",
       "      <td>14587.5</td>\n",
       "      <td>WITHDRAWAL</td>\n",
       "      <td>REMITTANCE_TO_OTHER_BANK</td>\n",
       "    </tr>\n",
       "    <tr>\n",
       "      <th>841751</th>\n",
       "      <td>462676</td>\n",
       "      <td>1573.0</td>\n",
       "      <td>30091998</td>\n",
       "      <td>14.6</td>\n",
       "      <td>14631.1</td>\n",
       "      <td>WITHDRAWAL</td>\n",
       "      <td>WITHDRAWAL_IN_CASH</td>\n",
       "    </tr>\n",
       "    <tr>\n",
       "      <th>841752</th>\n",
       "      <td>3582060</td>\n",
       "      <td>1573.0</td>\n",
       "      <td>30091998</td>\n",
       "      <td>58.2</td>\n",
       "      <td>14645.7</td>\n",
       "      <td>CREDIT</td>\n",
       "      <td>NaN</td>\n",
       "    </tr>\n",
       "    <tr>\n",
       "      <th>841753</th>\n",
       "      <td>462596</td>\n",
       "      <td>1573.0</td>\n",
       "      <td>9101998</td>\n",
       "      <td>5492.0</td>\n",
       "      <td>20123.1</td>\n",
       "      <td>CREDIT</td>\n",
       "      <td>COLLECTION_FROM_OTHER_BANK</td>\n",
       "    </tr>\n",
       "    <tr>\n",
       "      <th>841754</th>\n",
       "      <td>462620</td>\n",
       "      <td>1573.0</td>\n",
       "      <td>11101998</td>\n",
       "      <td>3638.0</td>\n",
       "      <td>16485.1</td>\n",
       "      <td>WITHDRAWAL</td>\n",
       "      <td>REMITTANCE_TO_OTHER_BANK</td>\n",
       "    </tr>\n",
       "    <tr>\n",
       "      <th>841755</th>\n",
       "      <td>462677</td>\n",
       "      <td>1573.0</td>\n",
       "      <td>31101998</td>\n",
       "      <td>14.6</td>\n",
       "      <td>16536.7</td>\n",
       "      <td>WITHDRAWAL</td>\n",
       "      <td>WITHDRAWAL_IN_CASH</td>\n",
       "    </tr>\n",
       "    <tr>\n",
       "      <th>841756</th>\n",
       "      <td>3582061</td>\n",
       "      <td>1573.0</td>\n",
       "      <td>31101998</td>\n",
       "      <td>66.2</td>\n",
       "      <td>16551.3</td>\n",
       "      <td>CREDIT</td>\n",
       "      <td>NaN</td>\n",
       "    </tr>\n",
       "    <tr>\n",
       "      <th>841757</th>\n",
       "      <td>462650</td>\n",
       "      <td>1573.0</td>\n",
       "      <td>4111998</td>\n",
       "      <td>1440.0</td>\n",
       "      <td>15096.7</td>\n",
       "      <td>WITHDRAWAL</td>\n",
       "      <td>WITHDRAWAL_IN_CASH</td>\n",
       "    </tr>\n",
       "    <tr>\n",
       "      <th>841758</th>\n",
       "      <td>462597</td>\n",
       "      <td>1573.0</td>\n",
       "      <td>9111998</td>\n",
       "      <td>5492.0</td>\n",
       "      <td>20588.7</td>\n",
       "      <td>CREDIT</td>\n",
       "      <td>COLLECTION_FROM_OTHER_BANK</td>\n",
       "    </tr>\n",
       "    <tr>\n",
       "      <th>841759</th>\n",
       "      <td>462621</td>\n",
       "      <td>1573.0</td>\n",
       "      <td>11111998</td>\n",
       "      <td>3638.0</td>\n",
       "      <td>16950.7</td>\n",
       "      <td>WITHDRAWAL</td>\n",
       "      <td>REMITTANCE_TO_OTHER_BANK</td>\n",
       "    </tr>\n",
       "    <tr>\n",
       "      <th>841760</th>\n",
       "      <td>3582062</td>\n",
       "      <td>1573.0</td>\n",
       "      <td>30111998</td>\n",
       "      <td>70.8</td>\n",
       "      <td>17021.5</td>\n",
       "      <td>CREDIT</td>\n",
       "      <td>NaN</td>\n",
       "    </tr>\n",
       "    <tr>\n",
       "      <th>841761</th>\n",
       "      <td>462651</td>\n",
       "      <td>1573.0</td>\n",
       "      <td>30111998</td>\n",
       "      <td>2560.0</td>\n",
       "      <td>14461.5</td>\n",
       "      <td>WITHDRAWAL</td>\n",
       "      <td>WITHDRAWAL_IN_CASH</td>\n",
       "    </tr>\n",
       "    <tr>\n",
       "      <th>841762</th>\n",
       "      <td>462678</td>\n",
       "      <td>1573.0</td>\n",
       "      <td>30111998</td>\n",
       "      <td>14.6</td>\n",
       "      <td>14446.9</td>\n",
       "      <td>WITHDRAWAL</td>\n",
       "      <td>WITHDRAWAL_IN_CASH</td>\n",
       "    </tr>\n",
       "    <tr>\n",
       "      <th>841763</th>\n",
       "      <td>462598</td>\n",
       "      <td>1573.0</td>\n",
       "      <td>9121998</td>\n",
       "      <td>5492.0</td>\n",
       "      <td>19938.9</td>\n",
       "      <td>CREDIT</td>\n",
       "      <td>COLLECTION_FROM_OTHER_BANK</td>\n",
       "    </tr>\n",
       "    <tr>\n",
       "      <th>841764</th>\n",
       "      <td>462622</td>\n",
       "      <td>1573.0</td>\n",
       "      <td>11121998</td>\n",
       "      <td>3638.0</td>\n",
       "      <td>16300.9</td>\n",
       "      <td>WITHDRAWAL</td>\n",
       "      <td>REMITTANCE_TO_OTHER_BANK</td>\n",
       "    </tr>\n",
       "    <tr>\n",
       "      <th>841765</th>\n",
       "      <td>462683</td>\n",
       "      <td>1573.0</td>\n",
       "      <td>24121998</td>\n",
       "      <td>2200.0</td>\n",
       "      <td>14100.9</td>\n",
       "      <td>WITHDRAWAL</td>\n",
       "      <td>WITHDRAWAL_IN_CASH</td>\n",
       "    </tr>\n",
       "    <tr>\n",
       "      <th>841766</th>\n",
       "      <td>462628</td>\n",
       "      <td>1573.0</td>\n",
       "      <td>27121998</td>\n",
       "      <td>1200.0</td>\n",
       "      <td>12900.9</td>\n",
       "      <td>WITHDRAWAL</td>\n",
       "      <td>WITHDRAWAL_IN_CASH</td>\n",
       "    </tr>\n",
       "    <tr>\n",
       "      <th>841767</th>\n",
       "      <td>3582063</td>\n",
       "      <td>1573.0</td>\n",
       "      <td>31121998</td>\n",
       "      <td>62.2</td>\n",
       "      <td>12963.1</td>\n",
       "      <td>CREDIT</td>\n",
       "      <td>NaN</td>\n",
       "    </tr>\n",
       "  </tbody>\n",
       "</table>\n",
       "<p>831927 rows × 7 columns</p>\n",
       "</div>"
      ],
      "text/plain": [
       "        TRANS_ID  ACCOUNT_ID      DATE   AMOUNT   BALANCE        TYPE  \\\n",
       "0         695247      2378.0   1011993    700.0     700.0      CREDIT   \n",
       "1         695250      2378.0  22011993   7268.0    7968.0      CREDIT   \n",
       "2         695266      2378.0  23011993  14440.0   22408.0      CREDIT   \n",
       "3         695262      2378.0  24011993  49752.0   72160.0      CREDIT   \n",
       "4         695265      2378.0  26011993  21899.0   94059.0      CREDIT   \n",
       "5        3608592      2378.0  31011993     94.7   94153.7      CREDIT   \n",
       "6         695560      2378.0  31011993  34700.0   59453.7  WITHDRAWAL   \n",
       "7         695272      2378.0   5021993  30192.0   89645.7      CREDIT   \n",
       "8         695340      2378.0   7021993   9612.0   80033.7  WITHDRAWAL   \n",
       "9         695561      2378.0  11021993  25200.0   85871.7  WITHDRAWAL   \n",
       "10        695270      2378.0  11021993  31038.0  111071.7      CREDIT   \n",
       "11        695251      2378.0  20021993  19136.0  105007.7      CREDIT   \n",
       "12        695562      2378.0  20021993  33900.0   71107.7  WITHDRAWAL   \n",
       "13        695251      2378.0  20021993  19136.0  105007.7      CREDIT   \n",
       "14       3608593      2378.0  28021993    344.8   71452.4      CREDIT   \n",
       "15        695490      2378.0  28021993     14.6   71437.8  WITHDRAWAL   \n",
       "16        695563      2378.0   2031993  21400.0   50037.8  WITHDRAWAL   \n",
       "17        695254      2378.0   3031993   7077.0   57114.8      CREDIT   \n",
       "18        695341      2378.0   7031993   9612.0   47502.8  WITHDRAWAL   \n",
       "19       3608594      2378.0  31031993    209.4   47712.2      CREDIT   \n",
       "20        695491      2378.0  31031993     14.6   47697.6  WITHDRAWAL   \n",
       "21        695564      2378.0   1041993  13500.0   34197.6  WITHDRAWAL   \n",
       "22        695342      2378.0   7041993   9612.0   24585.6  WITHDRAWAL   \n",
       "23        695259      2378.0  19041993  29841.0   54426.6      CREDIT   \n",
       "24        695460      2378.0  22041993   1500.0   52926.6  WITHDRAWAL   \n",
       "25        695269      2378.0  26041993  15105.0   68031.6      CREDIT   \n",
       "26       3608595      2378.0  30041993    179.9   68211.6      CREDIT   \n",
       "27        695492      2378.0  30041993     14.6   68197.0  WITHDRAWAL   \n",
       "28        695565      2378.0   1051993  22700.0   45497.0  WITHDRAWAL   \n",
       "29        695264      2378.0   2051993  42538.0   88035.0      CREDIT   \n",
       "...          ...         ...       ...      ...       ...         ...   \n",
       "841738   3582057      1573.0  30061998     60.4   11358.4      CREDIT   \n",
       "841739    462673      1573.0  30061998     14.6   11343.8  WITHDRAWAL   \n",
       "841740    462593      1573.0   9071998   5492.0   16835.8      CREDIT   \n",
       "841741    462617      1573.0  11071998   3638.0   13197.8  WITHDRAWAL   \n",
       "841742   3582058      1573.0  31071998     52.5   13250.3      CREDIT   \n",
       "841743    462674      1573.0  31071998     14.6   13235.7  WITHDRAWAL   \n",
       "841744    462594      1573.0   9081998   5492.0   18727.7      CREDIT   \n",
       "841745    462618      1573.0  11081998   3638.0   15089.7  WITHDRAWAL   \n",
       "841746    462682      1573.0  26081998   2400.0   12689.7  WITHDRAWAL   \n",
       "841747   3582059      1573.0  31081998     58.4   12748.1      CREDIT   \n",
       "841748    462675      1573.0  31081998     14.6   12733.5  WITHDRAWAL   \n",
       "841749    462595      1573.0   9091998   5492.0   18225.5      CREDIT   \n",
       "841750    462619      1573.0  11091998   3638.0   14587.5  WITHDRAWAL   \n",
       "841751    462676      1573.0  30091998     14.6   14631.1  WITHDRAWAL   \n",
       "841752   3582060      1573.0  30091998     58.2   14645.7      CREDIT   \n",
       "841753    462596      1573.0   9101998   5492.0   20123.1      CREDIT   \n",
       "841754    462620      1573.0  11101998   3638.0   16485.1  WITHDRAWAL   \n",
       "841755    462677      1573.0  31101998     14.6   16536.7  WITHDRAWAL   \n",
       "841756   3582061      1573.0  31101998     66.2   16551.3      CREDIT   \n",
       "841757    462650      1573.0   4111998   1440.0   15096.7  WITHDRAWAL   \n",
       "841758    462597      1573.0   9111998   5492.0   20588.7      CREDIT   \n",
       "841759    462621      1573.0  11111998   3638.0   16950.7  WITHDRAWAL   \n",
       "841760   3582062      1573.0  30111998     70.8   17021.5      CREDIT   \n",
       "841761    462651      1573.0  30111998   2560.0   14461.5  WITHDRAWAL   \n",
       "841762    462678      1573.0  30111998     14.6   14446.9  WITHDRAWAL   \n",
       "841763    462598      1573.0   9121998   5492.0   19938.9      CREDIT   \n",
       "841764    462622      1573.0  11121998   3638.0   16300.9  WITHDRAWAL   \n",
       "841765    462683      1573.0  24121998   2200.0   14100.9  WITHDRAWAL   \n",
       "841766    462628      1573.0  27121998   1200.0   12900.9  WITHDRAWAL   \n",
       "841767   3582063      1573.0  31121998     62.2   12963.1      CREDIT   \n",
       "\n",
       "                         OPERATION  \n",
       "0                   CREDIT_IN_CASH  \n",
       "1                   CREDIT_IN_CASH  \n",
       "2                   CREDIT_IN_CASH  \n",
       "3                   CREDIT_IN_CASH  \n",
       "4                   CREDIT_IN_CASH  \n",
       "5                              NaN  \n",
       "6               WITHDRAWAL_IN_CASH  \n",
       "7                   CREDIT_IN_CASH  \n",
       "8         REMITTANCE_TO_OTHER_BANK  \n",
       "9               WITHDRAWAL_IN_CASH  \n",
       "10                  CREDIT_IN_CASH  \n",
       "11                  CREDIT_IN_CASH  \n",
       "12              WITHDRAWAL_IN_CASH  \n",
       "13                  CREDIT_IN_CASH  \n",
       "14                             NaN  \n",
       "15              WITHDRAWAL_IN_CASH  \n",
       "16              WITHDRAWAL_IN_CASH  \n",
       "17                  CREDIT_IN_CASH  \n",
       "18        REMITTANCE_TO_OTHER_BANK  \n",
       "19                             NaN  \n",
       "20              WITHDRAWAL_IN_CASH  \n",
       "21              WITHDRAWAL_IN_CASH  \n",
       "22        REMITTANCE_TO_OTHER_BANK  \n",
       "23                  CREDIT_IN_CASH  \n",
       "24              WITHDRAWAL_IN_CASH  \n",
       "25                  CREDIT_IN_CASH  \n",
       "26                             NaN  \n",
       "27              WITHDRAWAL_IN_CASH  \n",
       "28              WITHDRAWAL_IN_CASH  \n",
       "29                  CREDIT_IN_CASH  \n",
       "...                            ...  \n",
       "841738                         NaN  \n",
       "841739          WITHDRAWAL_IN_CASH  \n",
       "841740  COLLECTION_FROM_OTHER_BANK  \n",
       "841741    REMITTANCE_TO_OTHER_BANK  \n",
       "841742                         NaN  \n",
       "841743          WITHDRAWAL_IN_CASH  \n",
       "841744  COLLECTION_FROM_OTHER_BANK  \n",
       "841745    REMITTANCE_TO_OTHER_BANK  \n",
       "841746          WITHDRAWAL_IN_CASH  \n",
       "841747                         NaN  \n",
       "841748          WITHDRAWAL_IN_CASH  \n",
       "841749  COLLECTION_FROM_OTHER_BANK  \n",
       "841750    REMITTANCE_TO_OTHER_BANK  \n",
       "841751          WITHDRAWAL_IN_CASH  \n",
       "841752                         NaN  \n",
       "841753  COLLECTION_FROM_OTHER_BANK  \n",
       "841754    REMITTANCE_TO_OTHER_BANK  \n",
       "841755          WITHDRAWAL_IN_CASH  \n",
       "841756                         NaN  \n",
       "841757          WITHDRAWAL_IN_CASH  \n",
       "841758  COLLECTION_FROM_OTHER_BANK  \n",
       "841759    REMITTANCE_TO_OTHER_BANK  \n",
       "841760                         NaN  \n",
       "841761          WITHDRAWAL_IN_CASH  \n",
       "841762          WITHDRAWAL_IN_CASH  \n",
       "841763  COLLECTION_FROM_OTHER_BANK  \n",
       "841764    REMITTANCE_TO_OTHER_BANK  \n",
       "841765          WITHDRAWAL_IN_CASH  \n",
       "841766          WITHDRAWAL_IN_CASH  \n",
       "841767                         NaN  \n",
       "\n",
       "[831927 rows x 7 columns]"
      ]
     },
     "execution_count": 80,
     "metadata": {},
     "output_type": "execute_result"
    }
   ],
   "source": [
    "transactions_train = transactions_train.merge(customers[['ACCOUNT_ID','LOAN']], on='ACCOUNT_ID', how='left')\n",
    "transactions_train = transactions_train[~transactions_train.LOAN.isna()]\n",
    "transactions_train.drop(columns='LOAN', inplace=True)"
   ]
  },
  {
   "cell_type": "code",
   "execution_count": 71,
   "metadata": {},
   "outputs": [
    {
     "data": {
      "text/plain": [
       "0"
      ]
     },
     "execution_count": 71,
     "metadata": {},
     "output_type": "execute_result"
    }
   ],
   "source": [
    "# checking client_id is unique\n",
    "customers_train.CLIENT_ID.unique().shape[0] - customers_train.shape[0]"
   ]
  },
  {
   "cell_type": "code",
   "execution_count": 72,
   "metadata": {},
   "outputs": [
    {
     "data": {
      "text/plain": [
       "3521"
      ]
     },
     "execution_count": 72,
     "metadata": {},
     "output_type": "execute_result"
    }
   ],
   "source": [
    "# checking count of customers in train sample\n",
    "customers_train.ACCOUNT_ID.unique().shape[0]"
   ]
  },
  {
   "cell_type": "code",
   "execution_count": 73,
   "metadata": {},
   "outputs": [
    {
     "name": "stdout",
     "output_type": "stream",
     "text": [
      "Max number of accounts: 1\n",
      "Min number of accounts: 1\n"
     ]
    }
   ],
   "source": [
    "# checking whether one customer can have multiple accounts\n",
    "print(\"Max number of accounts: {}\".format(max(customers_train.groupby('CLIENT_ID').count().iloc[0])))\n",
    "print(\"Min number of accounts: {}\".format(min(customers_train.groupby('CLIENT_ID').count().iloc[0])))"
   ]
  },
  {
   "cell_type": "markdown",
   "metadata": {},
   "source": [
    "CLIENT_IDs are unique, and each customer has only one ACCOUNT_ID."
   ]
  },
  {
   "cell_type": "code",
   "execution_count": 74,
   "metadata": {},
   "outputs": [
    {
     "data": {
      "text/plain": [
       "array(['F', 'M'], dtype=object)"
      ]
     },
     "execution_count": 74,
     "metadata": {},
     "output_type": "execute_result"
    }
   ],
   "source": [
    "# checking category naming consistency in column GENDER\n",
    "customers_train.GENDER.unique()"
   ]
  },
  {
   "cell_type": "markdown",
   "metadata": {},
   "source": [
    "Category naming is consistent. It is considered unethical to use variables as ethnicity, religious affiliation or gender in models."
   ]
  },
  {
   "cell_type": "code",
   "execution_count": 75,
   "metadata": {},
   "outputs": [
    {
     "data": {
      "text/plain": [
       "0    19701213\n",
       "1    19450204\n",
       "3    19290125\n",
       "4    19380221\n",
       "5    19351016\n",
       "Name: BIRTH_DT, dtype: int64"
      ]
     },
     "execution_count": 75,
     "metadata": {},
     "output_type": "execute_result"
    }
   ],
   "source": [
    "# check format of date in \"BIRTH_DT\"\n",
    "customers_train.BIRTH_DT.head()"
   ]
  },
  {
   "cell_type": "code",
   "execution_count": 107,
   "metadata": {},
   "outputs": [
    {
     "data": {
      "text/plain": [
       "array([8])"
      ]
     },
     "execution_count": 107,
     "metadata": {},
     "output_type": "execute_result"
    }
   ],
   "source": [
    "np.unique(np.array([len(str(x)) for x in customers_train.BIRTH_DT]))"
   ]
  },
  {
   "cell_type": "code",
   "execution_count": 76,
   "metadata": {},
   "outputs": [],
   "source": [
    "# convert \"BIRTH_DT\" to 'AGE', and use seaborn displot to check if values are reasonable.\n",
    "customers_train['AGE'] = [relativedelta(date.today(), dt.strptime(str(x), '%Y%m%d')).years for x in customers_train.BIRTH_DT]"
   ]
  },
  {
   "cell_type": "code",
   "execution_count": 77,
   "metadata": {},
   "outputs": [
    {
     "data": {
      "text/plain": [
       "<matplotlib.axes._subplots.AxesSubplot at 0x21a97aaf278>"
      ]
     },
     "execution_count": 77,
     "metadata": {},
     "output_type": "execute_result"
    },
    {
     "data": {
      "image/png": "[encoded data removed]",
      "text/plain": [
       "<Figure size 432x288 with 1 Axes>"
      ]
     },
     "metadata": {
      "needs_background": "light"
     },
     "output_type": "display_data"
    }
   ],
   "source": [
    "# visulatizing age distibution of customers\n",
    "sns.distplot(customers_train.AGE)"
   ]
  },
  {
   "cell_type": "code",
   "execution_count": 78,
   "metadata": {},
   "outputs": [
    {
     "name": "stdout",
     "output_type": "stream",
     "text": [
      "Min: 40\n",
      "Max: 105\n"
     ]
    }
   ],
   "source": [
    "print(\"Min: {}\".format(customers_train.AGE.min()))\n",
    "print(\"Max: {}\".format(customers_train.AGE.max()))"
   ]
  },
  {
   "cell_type": "markdown",
   "metadata": {},
   "source": [
    "Customers age vary between 40 and 105, I have no concerns about this column."
   ]
  },
  {
   "cell_type": "code",
   "execution_count": 82,
   "metadata": {},
   "outputs": [
    {
     "data": {
      "text/plain": [
       "array([1], dtype=int64)"
      ]
     },
     "execution_count": 82,
     "metadata": {},
     "output_type": "execute_result"
    }
   ],
   "source": [
    "# check distribution of ACTIVE customers\n",
    "customers_train.ACTIVE.unique()"
   ]
  },
  {
   "cell_type": "markdown",
   "metadata": {},
   "source": [
    "All customers are active. We can't check if there are any inactive customers in test data, so best to exclude this information from predicting model. Even if customer have had a loan in the past, he/she could have exited the bank."
   ]
  },
  {
   "cell_type": "code",
   "execution_count": 79,
   "metadata": {},
   "outputs": [
    {
     "name": "stdout",
     "output_type": "stream",
     "text": [
      "There are 77 districts.\n"
     ]
    },
    {
     "data": {
      "text/plain": [
       "CLIENT_ID      0\n",
       "ACCOUNT_ID     0\n",
       "GENDER         0\n",
       "BIRTH_DT       0\n",
       "ACTIVE         0\n",
       "LOAN           0\n",
       "DISTRICT_ID    0\n",
       "AGE            0\n",
       "N_INHAB        0\n",
       "N_CITIES       0\n",
       "URBAN_RATIO    0\n",
       "AVG_SALARY     0\n",
       "UNEMP_95       0\n",
       "UNEMP_96       0\n",
       "N_ENTR         0\n",
       "CRIME_95       0\n",
       "CRIME_96       0\n",
       "dtype: int64"
      ]
     },
     "execution_count": 79,
     "metadata": {},
     "output_type": "execute_result"
    }
   ],
   "source": [
    "# checking how many districts are there, and if we characteristics for all of them in districts table. \n",
    "print(\"There are {} districts.\".format(customers_train.DISTRICT_ID.unique().shape[0]))\n",
    "customers_train.merge(districts, on='DISTRICT_ID').isna().sum()"
   ]
  },
  {
   "cell_type": "markdown",
   "metadata": {},
   "source": [
    "We have descriptions about all districts inhabitated by banks' customers.\n",
    "### Data quality checks for districts table\n"
   ]
  },
  {
   "cell_type": "code",
   "execution_count": 25,
   "metadata": {},
   "outputs": [
    {
     "data": {
      "text/plain": [
       "DISTRICT_ID    0\n",
       "N_INHAB        0\n",
       "N_CITIES       0\n",
       "URBAN_RATIO    0\n",
       "AVG_SALARY     0\n",
       "UNEMP_95       0\n",
       "UNEMP_96       0\n",
       "N_ENTR         0\n",
       "CRIME_95       0\n",
       "CRIME_96       0\n",
       "dtype: int64"
      ]
     },
     "execution_count": 25,
     "metadata": {},
     "output_type": "execute_result"
    }
   ],
   "source": [
    "# check for missing values\n",
    "districts.isna().sum()"
   ]
  },
  {
   "cell_type": "markdown",
   "metadata": {},
   "source": [
    "There are no missing values."
   ]
  },
  {
   "cell_type": "code",
   "execution_count": 26,
   "metadata": {},
   "outputs": [
    {
     "data": {
      "text/plain": [
       "Index(['DISTRICT_ID', 'N_INHAB', 'N_CITIES', 'URBAN_RATIO', 'AVG_SALARY',\n",
       "       'UNEMP_95', 'UNEMP_96', 'N_ENTR', 'CRIME_95', 'CRIME_96'],\n",
       "      dtype='object')"
      ]
     },
     "execution_count": 26,
     "metadata": {},
     "output_type": "execute_result"
    }
   ],
   "source": [
    "# print out columns names\n",
    "districts.columns"
   ]
  },
  {
   "cell_type": "code",
   "execution_count": 33,
   "metadata": {},
   "outputs": [
    {
     "data": {
      "text/plain": [
       "77"
      ]
     },
     "execution_count": 33,
     "metadata": {},
     "output_type": "execute_result"
    }
   ],
   "source": [
    "# check how many districts are described\n",
    "districts.DISTRICT_ID.unique().shape[0]"
   ]
  },
  {
   "cell_type": "markdown",
   "metadata": {},
   "source": [
    "If I had more time I would follow same strategy as with customers table and check each column individually for data quality. I will stop at checking for missing values, because I think it's worth to spend more time with transactions table."
   ]
  },
  {
   "cell_type": "markdown",
   "metadata": {},
   "source": [
    "### Data quality checks for transactions table"
   ]
  },
  {
   "cell_type": "code",
   "execution_count": 81,
   "metadata": {},
   "outputs": [
    {
     "data": {
      "text/plain": [
       "TRANS_ID           0\n",
       "ACCOUNT_ID         0\n",
       "DATE               0\n",
       "AMOUNT             0\n",
       "BALANCE            0\n",
       "TYPE               0\n",
       "OPERATION     144084\n",
       "LOAN               0\n",
       "dtype: int64"
      ]
     },
     "execution_count": 81,
     "metadata": {},
     "output_type": "execute_result"
    }
   ],
   "source": [
    "# check for missing values\n",
    "transactions_train.isna().sum()"
   ]
  },
  {
   "cell_type": "code",
   "execution_count": 157,
   "metadata": {},
   "outputs": [
    {
     "data": {
      "text/plain": [
       "0.1731657624358534"
      ]
     },
     "execution_count": 157,
     "metadata": {},
     "output_type": "execute_result"
    }
   ],
   "source": [
    "transactions_train.OPERATION.isna().sum() / transactions_train.shape[0]"
   ]
  },
  {
   "cell_type": "markdown",
   "metadata": {},
   "source": [
    "There are missing values in OPERATION, and it consists of 17% of data. It wouldn't be wise to drop this information, I will impute it with label \"Other\"."
   ]
  },
  {
   "cell_type": "code",
   "execution_count": 161,
   "metadata": {},
   "outputs": [],
   "source": [
    "transactions_train.fillna(\"OTHER\", inplace=True)"
   ]
  },
  {
   "cell_type": "code",
   "execution_count": 82,
   "metadata": {},
   "outputs": [
    {
     "data": {
      "text/plain": [
       "-7826"
      ]
     },
     "execution_count": 82,
     "metadata": {},
     "output_type": "execute_result"
    }
   ],
   "source": [
    "# check if TRANS_ID in unique\n",
    "transactions_train.TRANS_ID.unique().shape[0] - transactions_train.shape[0]"
   ]
  },
  {
   "cell_type": "code",
   "execution_count": 83,
   "metadata": {},
   "outputs": [
    {
     "data": {
      "text/plain": [
       "7826"
      ]
     },
     "execution_count": 83,
     "metadata": {},
     "output_type": "execute_result"
    }
   ],
   "source": [
    "# check if these duplicated TRANS_ID refer to entire duplicated row\n",
    "transactions_train.duplicated().sum()"
   ]
  },
  {
   "cell_type": "markdown",
   "metadata": {},
   "source": [
    "Duplicates are possibly result of faulty data collection process, they make no business sense, thus I drop them from the table."
   ]
  },
  {
   "cell_type": "code",
   "execution_count": 84,
   "metadata": {},
   "outputs": [],
   "source": [
    "transactions_train.drop_duplicates(inplace=True)"
   ]
  },
  {
   "cell_type": "code",
   "execution_count": 96,
   "metadata": {},
   "outputs": [
    {
     "data": {
      "text/plain": [
       "array([ 1011993, 22011993, 23011993, ..., 26021994, 23111994, 22041995],\n",
       "      dtype=int64)"
      ]
     },
     "execution_count": 96,
     "metadata": {},
     "output_type": "execute_result"
    }
   ],
   "source": [
    "# check format of DATE column and transform in datetime object\n",
    "transactions_train.DATE.unique()"
   ]
  },
  {
   "cell_type": "code",
   "execution_count": 119,
   "metadata": {},
   "outputs": [
    {
     "data": {
      "text/plain": [
       "array([7, 8])"
      ]
     },
     "execution_count": 119,
     "metadata": {},
     "output_type": "execute_result"
    }
   ],
   "source": [
    "# check if dates have same number of characters\n",
    "np.unique(np.array([len(str(x)) for x in transactions_train.DATE]))"
   ]
  },
  {
   "cell_type": "markdown",
   "metadata": {},
   "source": [
    "In the date format day is not zero-padded. I will amend that in order to utilize strptime function to convert it into datetime object, for ease of visulization later."
   ]
  },
  {
   "cell_type": "code",
   "execution_count": 147,
   "metadata": {},
   "outputs": [
    {
     "data": {
      "text/plain": [
       "Index(['TRANS_ID', 'ACCOUNT_ID', 'DATE', 'AMOUNT', 'BALANCE', 'TYPE',\n",
       "       'OPERATION'],\n",
       "      dtype='object')"
      ]
     },
     "execution_count": 147,
     "metadata": {},
     "output_type": "execute_result"
    }
   ],
   "source": [
    "transactions_train.columns"
   ]
  },
  {
   "cell_type": "code",
   "execution_count": 121,
   "metadata": {},
   "outputs": [
    {
     "data": {
      "text/plain": [
       "<matplotlib.axes._subplots.AxesSubplot at 0x21a980479e8>"
      ]
     },
     "execution_count": 121,
     "metadata": {},
     "output_type": "execute_result"
    },
    {
     "data": {
      "image/png": "[encoded data removed]",
      "text/plain": [
       "<Figure size 432x288 with 1 Axes>"
      ]
     },
     "metadata": {
      "needs_background": "light"
     },
     "output_type": "display_data"
    }
   ],
   "source": [
    "sns.distplot(transactions_train.AMOUNT)"
   ]
  },
  {
   "cell_type": "code",
   "execution_count": 125,
   "metadata": {},
   "outputs": [
    {
     "data": {
      "text/plain": [
       "count    824101.000000\n",
       "mean       5871.351246\n",
       "std        9441.859261\n",
       "min           0.000000\n",
       "25%         135.700000\n",
       "50%        2100.000000\n",
       "75%        6700.000000\n",
       "max       87400.000000\n",
       "Name: AMOUNT, dtype: float64"
      ]
     },
     "execution_count": 125,
     "metadata": {},
     "output_type": "execute_result"
    }
   ],
   "source": [
    "transactions_train.AMOUNT.describe()"
   ]
  },
  {
   "cell_type": "code",
   "execution_count": 126,
   "metadata": {},
   "outputs": [
    {
     "data": {
      "text/html": [
       "<div>\n",
       "<style scoped>\n",
       "    .dataframe tbody tr th:only-of-type {\n",
       "        vertical-align: middle;\n",
       "    }\n",
       "\n",
       "    .dataframe tbody tr th {\n",
       "        vertical-align: top;\n",
       "    }\n",
       "\n",
       "    .dataframe thead th {\n",
       "        text-align: right;\n",
       "    }\n",
       "</style>\n",
       "<table border=\"1\" class=\"dataframe\">\n",
       "  <thead>\n",
       "    <tr style=\"text-align: right;\">\n",
       "      <th></th>\n",
       "      <th>TRANS_ID</th>\n",
       "      <th>ACCOUNT_ID</th>\n",
       "      <th>DATE</th>\n",
       "      <th>AMOUNT</th>\n",
       "      <th>BALANCE</th>\n",
       "      <th>TYPE</th>\n",
       "      <th>OPERATION</th>\n",
       "    </tr>\n",
       "  </thead>\n",
       "  <tbody>\n",
       "    <tr>\n",
       "      <th>62117</th>\n",
       "      <td>3451866</td>\n",
       "      <td>5369.0</td>\n",
       "      <td>30061997</td>\n",
       "      <td>0.0</td>\n",
       "      <td>603.9</td>\n",
       "      <td>WITHDRAWAL</td>\n",
       "      <td>WITHDRAWAL_IN_CASH</td>\n",
       "    </tr>\n",
       "    <tr>\n",
       "      <th>96933</th>\n",
       "      <td>3452231</td>\n",
       "      <td>5483.0</td>\n",
       "      <td>31011995</td>\n",
       "      <td>0.0</td>\n",
       "      <td>113.1</td>\n",
       "      <td>WITHDRAWAL</td>\n",
       "      <td>WITHDRAWAL_IN_CASH</td>\n",
       "    </tr>\n",
       "    <tr>\n",
       "      <th>162248</th>\n",
       "      <td>3451376</td>\n",
       "      <td>5129.0</td>\n",
       "      <td>30111994</td>\n",
       "      <td>0.0</td>\n",
       "      <td>-388.7</td>\n",
       "      <td>WITHDRAWAL</td>\n",
       "      <td>WITHDRAWAL_IN_CASH</td>\n",
       "    </tr>\n",
       "    <tr>\n",
       "      <th>168335</th>\n",
       "      <td>3446795</td>\n",
       "      <td>1475.0</td>\n",
       "      <td>31011998</td>\n",
       "      <td>0.0</td>\n",
       "      <td>694.3</td>\n",
       "      <td>WITHDRAWAL</td>\n",
       "      <td>WITHDRAWAL_IN_CASH</td>\n",
       "    </tr>\n",
       "    <tr>\n",
       "      <th>260894</th>\n",
       "      <td>3456605</td>\n",
       "      <td>9337.0</td>\n",
       "      <td>31011997</td>\n",
       "      <td>0.0</td>\n",
       "      <td>8502.9</td>\n",
       "      <td>WITHDRAWAL</td>\n",
       "      <td>WITHDRAWAL_IN_CASH</td>\n",
       "    </tr>\n",
       "    <tr>\n",
       "      <th>260897</th>\n",
       "      <td>3510214</td>\n",
       "      <td>9337.0</td>\n",
       "      <td>31011997</td>\n",
       "      <td>0.0</td>\n",
       "      <td>8488.2</td>\n",
       "      <td>WITHDRAWAL</td>\n",
       "      <td>WITHDRAWAL_IN_CASH</td>\n",
       "    </tr>\n",
       "    <tr>\n",
       "      <th>315248</th>\n",
       "      <td>3455961</td>\n",
       "      <td>8957.0</td>\n",
       "      <td>31081994</td>\n",
       "      <td>0.0</td>\n",
       "      <td>72681.7</td>\n",
       "      <td>WITHDRAWAL</td>\n",
       "      <td>WITHDRAWAL_IN_CASH</td>\n",
       "    </tr>\n",
       "    <tr>\n",
       "      <th>603067</th>\n",
       "      <td>3456218</td>\n",
       "      <td>9051.0</td>\n",
       "      <td>28021998</td>\n",
       "      <td>0.0</td>\n",
       "      <td>1367.1</td>\n",
       "      <td>CREDIT</td>\n",
       "      <td>NaN</td>\n",
       "    </tr>\n",
       "    <tr>\n",
       "      <th>603070</th>\n",
       "      <td>3507085</td>\n",
       "      <td>9051.0</td>\n",
       "      <td>28021998</td>\n",
       "      <td>0.0</td>\n",
       "      <td>1367.1</td>\n",
       "      <td>CREDIT</td>\n",
       "      <td>NaN</td>\n",
       "    </tr>\n",
       "    <tr>\n",
       "      <th>656397</th>\n",
       "      <td>3449658</td>\n",
       "      <td>3859.0</td>\n",
       "      <td>31121997</td>\n",
       "      <td>0.0</td>\n",
       "      <td>197.0</td>\n",
       "      <td>WITHDRAWAL</td>\n",
       "      <td>WITHDRAWAL_IN_CASH</td>\n",
       "    </tr>\n",
       "    <tr>\n",
       "      <th>731309</th>\n",
       "      <td>3453255</td>\n",
       "      <td>6083.0</td>\n",
       "      <td>30091998</td>\n",
       "      <td>0.0</td>\n",
       "      <td>-8404.2</td>\n",
       "      <td>CREDIT</td>\n",
       "      <td>NaN</td>\n",
       "    </tr>\n",
       "    <tr>\n",
       "      <th>747423</th>\n",
       "      <td>3446508</td>\n",
       "      <td>1330.0</td>\n",
       "      <td>30111998</td>\n",
       "      <td>0.0</td>\n",
       "      <td>141.2</td>\n",
       "      <td>WITHDRAWAL</td>\n",
       "      <td>WITHDRAWAL_IN_CASH</td>\n",
       "    </tr>\n",
       "  </tbody>\n",
       "</table>\n",
       "</div>"
      ],
      "text/plain": [
       "        TRANS_ID  ACCOUNT_ID      DATE  AMOUNT  BALANCE        TYPE  \\\n",
       "62117    3451866      5369.0  30061997     0.0    603.9  WITHDRAWAL   \n",
       "96933    3452231      5483.0  31011995     0.0    113.1  WITHDRAWAL   \n",
       "162248   3451376      5129.0  30111994     0.0   -388.7  WITHDRAWAL   \n",
       "168335   3446795      1475.0  31011998     0.0    694.3  WITHDRAWAL   \n",
       "260894   3456605      9337.0  31011997     0.0   8502.9  WITHDRAWAL   \n",
       "260897   3510214      9337.0  31011997     0.0   8488.2  WITHDRAWAL   \n",
       "315248   3455961      8957.0  31081994     0.0  72681.7  WITHDRAWAL   \n",
       "603067   3456218      9051.0  28021998     0.0   1367.1      CREDIT   \n",
       "603070   3507085      9051.0  28021998     0.0   1367.1      CREDIT   \n",
       "656397   3449658      3859.0  31121997     0.0    197.0  WITHDRAWAL   \n",
       "731309   3453255      6083.0  30091998     0.0  -8404.2      CREDIT   \n",
       "747423   3446508      1330.0  30111998     0.0    141.2  WITHDRAWAL   \n",
       "\n",
       "                 OPERATION  \n",
       "62117   WITHDRAWAL_IN_CASH  \n",
       "96933   WITHDRAWAL_IN_CASH  \n",
       "162248  WITHDRAWAL_IN_CASH  \n",
       "168335  WITHDRAWAL_IN_CASH  \n",
       "260894  WITHDRAWAL_IN_CASH  \n",
       "260897  WITHDRAWAL_IN_CASH  \n",
       "315248  WITHDRAWAL_IN_CASH  \n",
       "603067                 NaN  \n",
       "603070                 NaN  \n",
       "656397  WITHDRAWAL_IN_CASH  \n",
       "731309                 NaN  \n",
       "747423  WITHDRAWAL_IN_CASH  "
      ]
     },
     "execution_count": 126,
     "metadata": {},
     "output_type": "execute_result"
    }
   ],
   "source": [
    "transactions_train[transactions_train.AMOUNT == 0]"
   ]
  },
  {
   "cell_type": "code",
   "execution_count": 128,
   "metadata": {},
   "outputs": [
    {
     "data": {
      "text/plain": [
       "12"
      ]
     },
     "execution_count": 128,
     "metadata": {},
     "output_type": "execute_result"
    }
   ],
   "source": [
    "transactions_train[transactions_train.AMOUNT == 0].shape[0]"
   ]
  },
  {
   "cell_type": "markdown",
   "metadata": {},
   "source": [
    "Transaction for 0 amount doesn't make sense. I will drop them from the sample since there is only 12 of them."
   ]
  },
  {
   "cell_type": "code",
   "execution_count": 129,
   "metadata": {},
   "outputs": [],
   "source": [
    "transactions_train = transactions_train[transactions_train.AMOUNT != 0]"
   ]
  },
  {
   "cell_type": "code",
   "execution_count": 130,
   "metadata": {},
   "outputs": [
    {
     "data": {
      "text/plain": [
       "<matplotlib.axes._subplots.AxesSubplot at 0x21a992a8908>"
      ]
     },
     "execution_count": 130,
     "metadata": {},
     "output_type": "execute_result"
    },
    {
     "data": {
      "image/png": "[encoded data removed]",
      "text/plain": [
       "<Figure size 432x288 with 1 Axes>"
      ]
     },
     "metadata": {
      "needs_background": "light"
     },
     "output_type": "display_data"
    }
   ],
   "source": [
    "# checking BALANCE\n",
    "sns.distplot(transactions_train.BALANCE)"
   ]
  },
  {
   "cell_type": "code",
   "execution_count": 134,
   "metadata": {},
   "outputs": [
    {
     "data": {
      "text/html": [
       "<div>\n",
       "<style scoped>\n",
       "    .dataframe tbody tr th:only-of-type {\n",
       "        vertical-align: middle;\n",
       "    }\n",
       "\n",
       "    .dataframe tbody tr th {\n",
       "        vertical-align: top;\n",
       "    }\n",
       "\n",
       "    .dataframe thead th {\n",
       "        text-align: right;\n",
       "    }\n",
       "</style>\n",
       "<table border=\"1\" class=\"dataframe\">\n",
       "  <thead>\n",
       "    <tr style=\"text-align: right;\">\n",
       "      <th></th>\n",
       "      <th>TRANS_ID</th>\n",
       "      <th>ACCOUNT_ID</th>\n",
       "      <th>DATE</th>\n",
       "      <th>AMOUNT</th>\n",
       "      <th>BALANCE</th>\n",
       "    </tr>\n",
       "  </thead>\n",
       "  <tbody>\n",
       "    <tr>\n",
       "      <th>count</th>\n",
       "      <td>8.240890e+05</td>\n",
       "      <td>824089.000000</td>\n",
       "      <td>8.240890e+05</td>\n",
       "      <td>824089.000000</td>\n",
       "      <td>824089.000000</td>\n",
       "    </tr>\n",
       "    <tr>\n",
       "      <th>mean</th>\n",
       "      <td>1.343913e+06</td>\n",
       "      <td>2973.121606</td>\n",
       "      <td>1.840585e+07</td>\n",
       "      <td>5871.436742</td>\n",
       "      <td>38500.188372</td>\n",
       "    </tr>\n",
       "    <tr>\n",
       "      <th>std</th>\n",
       "      <td>1.230502e+06</td>\n",
       "      <td>2520.123063</td>\n",
       "      <td>1.019652e+07</td>\n",
       "      <td>9441.901422</td>\n",
       "      <td>21982.073852</td>\n",
       "    </tr>\n",
       "    <tr>\n",
       "      <th>min</th>\n",
       "      <td>1.000000e+00</td>\n",
       "      <td>1.000000</td>\n",
       "      <td>1.011993e+06</td>\n",
       "      <td>0.100000</td>\n",
       "      <td>-41125.700000</td>\n",
       "    </tr>\n",
       "    <tr>\n",
       "      <th>25%</th>\n",
       "      <td>4.312710e+05</td>\n",
       "      <td>1218.000000</td>\n",
       "      <td>9.091998e+06</td>\n",
       "      <td>135.800000</td>\n",
       "      <td>22466.000000</td>\n",
       "    </tr>\n",
       "    <tr>\n",
       "      <th>50%</th>\n",
       "      <td>8.653430e+05</td>\n",
       "      <td>2471.000000</td>\n",
       "      <td>1.506200e+07</td>\n",
       "      <td>2100.000000</td>\n",
       "      <td>33179.600000</td>\n",
       "    </tr>\n",
       "    <tr>\n",
       "      <th>75%</th>\n",
       "      <td>2.108242e+06</td>\n",
       "      <td>3674.000000</td>\n",
       "      <td>3.009200e+07</td>\n",
       "      <td>6700.000000</td>\n",
       "      <td>49531.200000</td>\n",
       "    </tr>\n",
       "    <tr>\n",
       "      <th>max</th>\n",
       "      <td>3.682987e+06</td>\n",
       "      <td>11382.000000</td>\n",
       "      <td>3.112200e+07</td>\n",
       "      <td>87400.000000</td>\n",
       "      <td>209637.000000</td>\n",
       "    </tr>\n",
       "  </tbody>\n",
       "</table>\n",
       "</div>"
      ],
      "text/plain": [
       "           TRANS_ID     ACCOUNT_ID          DATE         AMOUNT        BALANCE\n",
       "count  8.240890e+05  824089.000000  8.240890e+05  824089.000000  824089.000000\n",
       "mean   1.343913e+06    2973.121606  1.840585e+07    5871.436742   38500.188372\n",
       "std    1.230502e+06    2520.123063  1.019652e+07    9441.901422   21982.073852\n",
       "min    1.000000e+00       1.000000  1.011993e+06       0.100000  -41125.700000\n",
       "25%    4.312710e+05    1218.000000  9.091998e+06     135.800000   22466.000000\n",
       "50%    8.653430e+05    2471.000000  1.506200e+07    2100.000000   33179.600000\n",
       "75%    2.108242e+06    3674.000000  3.009200e+07    6700.000000   49531.200000\n",
       "max    3.682987e+06   11382.000000  3.112200e+07   87400.000000  209637.000000"
      ]
     },
     "execution_count": 134,
     "metadata": {},
     "output_type": "execute_result"
    }
   ],
   "source": [
    "transactions_train.describe()"
   ]
  },
  {
   "cell_type": "markdown",
   "metadata": {},
   "source": [
    "If I had more time, I coudld have checked in BALANCE column is calculated correctly, i.e. does it follow transactions."
   ]
  },
  {
   "cell_type": "code",
   "execution_count": 148,
   "metadata": {},
   "outputs": [
    {
     "data": {
      "text/plain": [
       "array(['CREDIT', 'WITHDRAWAL'], dtype=object)"
      ]
     },
     "execution_count": 148,
     "metadata": {},
     "output_type": "execute_result"
    }
   ],
   "source": [
    "# check 'TYPE'\n",
    "transactions_train.TYPE.unique()"
   ]
  },
  {
   "cell_type": "code",
   "execution_count": 162,
   "metadata": {},
   "outputs": [
    {
     "data": {
      "text/plain": [
       "array(['CREDIT_IN_CASH', 'OTHER', 'WITHDRAWAL_IN_CASH',\n",
       "       'REMITTANCE_TO_OTHER_BANK', 'COLLECTION_FROM_OTHER_BANK',\n",
       "       'CC_WITHDRAWAL'], dtype=object)"
      ]
     },
     "execution_count": 162,
     "metadata": {},
     "output_type": "execute_result"
    }
   ],
   "source": [
    "# check 'OPERATION'\n",
    "transactions_train.OPERATION.unique()"
   ]
  },
  {
   "cell_type": "code",
   "execution_count": 164,
   "metadata": {},
   "outputs": [
    {
     "data": {
      "text/html": [
       "<div>\n",
       "<style scoped>\n",
       "    .dataframe tbody tr th:only-of-type {\n",
       "        vertical-align: middle;\n",
       "    }\n",
       "\n",
       "    .dataframe tbody tr th {\n",
       "        vertical-align: top;\n",
       "    }\n",
       "\n",
       "    .dataframe thead th {\n",
       "        text-align: right;\n",
       "    }\n",
       "</style>\n",
       "<table border=\"1\" class=\"dataframe\">\n",
       "  <thead>\n",
       "    <tr style=\"text-align: right;\">\n",
       "      <th></th>\n",
       "      <th></th>\n",
       "      <th>TRANS_ID</th>\n",
       "      <th>ACCOUNT_ID</th>\n",
       "      <th>DATE</th>\n",
       "      <th>AMOUNT</th>\n",
       "      <th>BALANCE</th>\n",
       "    </tr>\n",
       "    <tr>\n",
       "      <th>TYPE</th>\n",
       "      <th>OPERATION</th>\n",
       "      <th></th>\n",
       "      <th></th>\n",
       "      <th></th>\n",
       "      <th></th>\n",
       "      <th></th>\n",
       "    </tr>\n",
       "  </thead>\n",
       "  <tbody>\n",
       "    <tr>\n",
       "      <th rowspan=\"3\" valign=\"top\">CREDIT</th>\n",
       "      <th>COLLECTION_FROM_OTHER_BANK</th>\n",
       "      <td>50597</td>\n",
       "      <td>50597</td>\n",
       "      <td>50597</td>\n",
       "      <td>50597</td>\n",
       "      <td>50597</td>\n",
       "    </tr>\n",
       "    <tr>\n",
       "      <th>CREDIT_IN_CASH</th>\n",
       "      <td>122861</td>\n",
       "      <td>122861</td>\n",
       "      <td>122861</td>\n",
       "      <td>122861</td>\n",
       "      <td>122861</td>\n",
       "    </tr>\n",
       "    <tr>\n",
       "      <th>OTHER</th>\n",
       "      <td>142704</td>\n",
       "      <td>142704</td>\n",
       "      <td>142704</td>\n",
       "      <td>142704</td>\n",
       "      <td>142704</td>\n",
       "    </tr>\n",
       "    <tr>\n",
       "      <th rowspan=\"3\" valign=\"top\">WITHDRAWAL</th>\n",
       "      <th>CC_WITHDRAWAL</th>\n",
       "      <td>6451</td>\n",
       "      <td>6451</td>\n",
       "      <td>6451</td>\n",
       "      <td>6451</td>\n",
       "      <td>6451</td>\n",
       "    </tr>\n",
       "    <tr>\n",
       "      <th>REMITTANCE_TO_OTHER_BANK</th>\n",
       "      <td>162790</td>\n",
       "      <td>162790</td>\n",
       "      <td>162790</td>\n",
       "      <td>162790</td>\n",
       "      <td>162790</td>\n",
       "    </tr>\n",
       "    <tr>\n",
       "      <th>WITHDRAWAL_IN_CASH</th>\n",
       "      <td>338686</td>\n",
       "      <td>338686</td>\n",
       "      <td>338686</td>\n",
       "      <td>338686</td>\n",
       "      <td>338686</td>\n",
       "    </tr>\n",
       "  </tbody>\n",
       "</table>\n",
       "</div>"
      ],
      "text/plain": [
       "                                       TRANS_ID  ACCOUNT_ID    DATE  AMOUNT  \\\n",
       "TYPE       OPERATION                                                          \n",
       "CREDIT     COLLECTION_FROM_OTHER_BANK     50597       50597   50597   50597   \n",
       "           CREDIT_IN_CASH                122861      122861  122861  122861   \n",
       "           OTHER                         142704      142704  142704  142704   \n",
       "WITHDRAWAL CC_WITHDRAWAL                   6451        6451    6451    6451   \n",
       "           REMITTANCE_TO_OTHER_BANK      162790      162790  162790  162790   \n",
       "           WITHDRAWAL_IN_CASH            338686      338686  338686  338686   \n",
       "\n",
       "                                       BALANCE  \n",
       "TYPE       OPERATION                            \n",
       "CREDIT     COLLECTION_FROM_OTHER_BANK    50597  \n",
       "           CREDIT_IN_CASH               122861  \n",
       "           OTHER                        142704  \n",
       "WITHDRAWAL CC_WITHDRAWAL                  6451  \n",
       "           REMITTANCE_TO_OTHER_BANK     162790  \n",
       "           WITHDRAWAL_IN_CASH           338686  "
      ]
     },
     "execution_count": 164,
     "metadata": {},
     "output_type": "execute_result"
    }
   ],
   "source": [
    "# check if TYPE and OPERATION make sense, e.g. TYPE=CREDIT and OPERATION = WITHDRAWAL_IN_CASH would be an error.\n",
    "transactions_train.groupby(['TYPE','OPERATION']).count()"
   ]
  },
  {
   "cell_type": "code",
   "execution_count": 91,
   "metadata": {},
   "outputs": [
    {
     "data": {
      "text/html": [
       "<div>\n",
       "<style scoped>\n",
       "    .dataframe tbody tr th:only-of-type {\n",
       "        vertical-align: middle;\n",
       "    }\n",
       "\n",
       "    .dataframe tbody tr th {\n",
       "        vertical-align: top;\n",
       "    }\n",
       "\n",
       "    .dataframe thead th {\n",
       "        text-align: right;\n",
       "    }\n",
       "</style>\n",
       "<table border=\"1\" class=\"dataframe\">\n",
       "  <thead>\n",
       "    <tr style=\"text-align: right;\">\n",
       "      <th></th>\n",
       "      <th>CLIENT_ID</th>\n",
       "      <th>ACCOUNT_ID</th>\n",
       "      <th>GENDER</th>\n",
       "      <th>BIRTH_DT</th>\n",
       "      <th>ACTIVE</th>\n",
       "      <th>LOAN</th>\n",
       "      <th>BIRTH_DATE</th>\n",
       "      <th>AGE</th>\n",
       "    </tr>\n",
       "    <tr>\n",
       "      <th>DISTRICT_ID</th>\n",
       "      <th></th>\n",
       "      <th></th>\n",
       "      <th></th>\n",
       "      <th></th>\n",
       "      <th></th>\n",
       "      <th></th>\n",
       "      <th></th>\n",
       "      <th></th>\n",
       "    </tr>\n",
       "  </thead>\n",
       "  <tbody>\n",
       "    <tr>\n",
       "      <th>1</th>\n",
       "      <td>442</td>\n",
       "      <td>442</td>\n",
       "      <td>442</td>\n",
       "      <td>442</td>\n",
       "      <td>442</td>\n",
       "      <td>434</td>\n",
       "      <td>442</td>\n",
       "      <td>442</td>\n",
       "    </tr>\n",
       "    <tr>\n",
       "      <th>74</th>\n",
       "      <td>115</td>\n",
       "      <td>115</td>\n",
       "      <td>115</td>\n",
       "      <td>115</td>\n",
       "      <td>115</td>\n",
       "      <td>115</td>\n",
       "      <td>115</td>\n",
       "      <td>115</td>\n",
       "    </tr>\n",
       "    <tr>\n",
       "      <th>54</th>\n",
       "      <td>107</td>\n",
       "      <td>107</td>\n",
       "      <td>107</td>\n",
       "      <td>107</td>\n",
       "      <td>107</td>\n",
       "      <td>106</td>\n",
       "      <td>107</td>\n",
       "      <td>107</td>\n",
       "    </tr>\n",
       "    <tr>\n",
       "      <th>70</th>\n",
       "      <td>105</td>\n",
       "      <td>105</td>\n",
       "      <td>105</td>\n",
       "      <td>105</td>\n",
       "      <td>105</td>\n",
       "      <td>102</td>\n",
       "      <td>105</td>\n",
       "      <td>105</td>\n",
       "    </tr>\n",
       "    <tr>\n",
       "      <th>64</th>\n",
       "      <td>80</td>\n",
       "      <td>80</td>\n",
       "      <td>80</td>\n",
       "      <td>80</td>\n",
       "      <td>80</td>\n",
       "      <td>77</td>\n",
       "      <td>80</td>\n",
       "      <td>80</td>\n",
       "    </tr>\n",
       "  </tbody>\n",
       "</table>\n",
       "</div>"
      ],
      "text/plain": [
       "             CLIENT_ID  ACCOUNT_ID  GENDER  BIRTH_DT  ACTIVE  LOAN  \\\n",
       "DISTRICT_ID                                                          \n",
       "1                  442         442     442       442     442   434   \n",
       "74                 115         115     115       115     115   115   \n",
       "54                 107         107     107       107     107   106   \n",
       "70                 105         105     105       105     105   102   \n",
       "64                  80          80      80        80      80    77   \n",
       "\n",
       "             BIRTH_DATE  AGE  \n",
       "DISTRICT_ID                   \n",
       "1                   442  442  \n",
       "74                  115  115  \n",
       "54                  107  107  \n",
       "70                  105  105  \n",
       "64                   80   80  "
      ]
     },
     "execution_count": 91,
     "metadata": {},
     "output_type": "execute_result"
    }
   ],
   "source": [
    "customers_train.groupby('DISTRICT_ID').count().sort_values(by='CLIENT_ID',ascending=False).head()"
   ]
  },
  {
   "cell_type": "code",
   "execution_count": 171,
   "metadata": {},
   "outputs": [],
   "source": [
    "#Saving resulted customers_train, transactions_train for further exploratory analysis.\n",
    "\n",
    "customers_train.to_csv(\"data interim/customers_train.csv\")\n",
    "transactions_train.to_csv(\"data interim/transactions_train.csv\")"
   ]
  },
  {
   "cell_type": "code",
   "execution_count": 172,
   "metadata": {},
   "outputs": [],
   "source": [
    "customers_test.to_csv(\"data interim/customers_test.csv\")\n",
    "transactions_test.to_csv(\"data interim/transactions_test.csv\")"
   ]
  }
 ],
 "metadata": {
  "kernelspec": {
   "display_name": "Python 3",
   "language": "python",
   "name": "python3"
  },
  "language_info": {
   "codemirror_mode": {
    "name": "ipython",
    "version": 3
   },
   "file_extension": ".py",
   "mimetype": "text/x-python",
   "name": "python",
   "nbconvert_exporter": "python",
   "pygments_lexer": "ipython3",
   "version": "3.7.3"
  }
 },
 "nbformat": 4,
 "nbformat_minor": 2
}
